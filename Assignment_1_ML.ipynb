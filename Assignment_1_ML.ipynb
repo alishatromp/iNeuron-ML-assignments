{
 "cells": [
  {
   "cell_type": "markdown",
   "id": "68bc6ed9",
   "metadata": {},
   "source": [
    "1. What does one mean by the term &quot;machine learning&quot;?"
   ]
  },
  {
   "cell_type": "markdown",
   "id": "0e91fa28",
   "metadata": {},
   "source": [
    "Machine learning is a field of artificial intelligence (AI), which is broadly defined as the capability of a machine to imitate intelligent human behaviour. Artificial intelligence systems are used to perform complex tasks in a way that is similar to how humans solve problems.\n",
    "Machine learning algorithms use historical data as input to predict outcomes for the future."
   ]
  },
  {
   "cell_type": "markdown",
   "id": "7d7a49ac",
   "metadata": {},
   "source": [
    "----------------"
   ]
  },
  {
   "cell_type": "markdown",
   "id": "42699fbd",
   "metadata": {},
   "source": [
    "2. Can you think of 4 distinct types of issues where it shines?"
   ]
  },
  {
   "cell_type": "markdown",
   "id": "bd6b4dc0",
   "metadata": {},
   "source": [
    "ML is used for various applications. These are some that stand out.\n",
    "- Social Media Features. \n",
    "- Product Recommendations - OTT platforms such as Netflix use this to recommend users to choose content.\n",
    "- Image Recognition - Image recognition is the most common application.\n",
    "- Sentiment Analysis. \n",
    "- Automating Employee Access Control\n",
    "- Marine Wildlife Preservation.\n",
    "- Regulating Healthcare Efficiency and Medical Services.\n",
    "- Predict Potential Heart Failure."
   ]
  },
  {
   "cell_type": "markdown",
   "id": "74fb5ba2",
   "metadata": {},
   "source": [
    "------------"
   ]
  },
  {
   "cell_type": "markdown",
   "id": "3ed57124",
   "metadata": {},
   "source": [
    "3. What is a labeled training set, and how does it work?"
   ]
  },
  {
   "cell_type": "markdown",
   "id": "181c8f3b",
   "metadata": {},
   "source": [
    "A dataset is split into two sections. Training data and testing data. The training data set is used to train the algorithm, and then you use the trained model on the test set to predict the response variable values that are already known.\n",
    "The final step is to compare the predicted responses against the actual (observed) responses to see how close they are."
   ]
  },
  {
   "cell_type": "markdown",
   "id": "8dd95e98",
   "metadata": {},
   "source": [
    "-------------"
   ]
  },
  {
   "cell_type": "markdown",
   "id": "ae7fb8d6",
   "metadata": {},
   "source": [
    "4. What are the two most important tasks that are supervised?"
   ]
  },
  {
   "cell_type": "markdown",
   "id": "aeaf0efb",
   "metadata": {},
   "source": [
    "1. Classification and \n",
    "2. Regression."
   ]
  },
  {
   "cell_type": "markdown",
   "id": "2faa17a3",
   "metadata": {},
   "source": [
    "-----------"
   ]
  },
  {
   "cell_type": "markdown",
   "id": "cbc064f2",
   "metadata": {},
   "source": [
    "5. Can you think of four examples of unsupervised tasks?"
   ]
  },
  {
   "cell_type": "markdown",
   "id": "b7587583",
   "metadata": {},
   "source": [
    "1. Clustering \n",
    "2. Visualization \n",
    "3. Dimensionality Reduction\n",
    "4. Association Rule Learning."
   ]
  },
  {
   "cell_type": "markdown",
   "id": "a06d17d3",
   "metadata": {},
   "source": [
    "-------------------"
   ]
  },
  {
   "cell_type": "markdown",
   "id": "d5dae322",
   "metadata": {},
   "source": [
    "6. State the machine learning model that would be best to make a robot walk through various unfamiliar terrains?"
   ]
  },
  {
   "cell_type": "markdown",
   "id": "cb52e5ad",
   "metadata": {},
   "source": [
    "- One would use reinforcement learning. \n",
    "- Reinforcement learning is a machine learning training method based on rewarding desired behaviors and/or punishing undesired ones. In general, a reinforcement learning agent is able to perceive and interpret its environment, take actions and learn through trial and error."
   ]
  },
  {
   "cell_type": "markdown",
   "id": "c88b0078",
   "metadata": {},
   "source": [
    "-------------"
   ]
  },
  {
   "cell_type": "markdown",
   "id": "fbf0e1e4",
   "metadata": {},
   "source": [
    "7. Which algorithm will you use to divide your customers into different groups?"
   ]
  },
  {
   "cell_type": "markdown",
   "id": "3ff58cc4",
   "metadata": {},
   "source": [
    "For known group labels use Supervised ML and for not known groups use unsupervised ML."
   ]
  },
  {
   "cell_type": "markdown",
   "id": "16ef9ab7",
   "metadata": {},
   "source": [
    "-----------------"
   ]
  },
  {
   "cell_type": "markdown",
   "id": "8294b59c",
   "metadata": {},
   "source": [
    "8. Will you consider the problem of spam detection to be a supervised or unsupervised learning problem?"
   ]
  },
  {
   "cell_type": "markdown",
   "id": "2da54d49",
   "metadata": {},
   "source": [
    "Spam detection is a supervised machine learning problem. This means you must train your machine learning model with a set of examples of spam and ham messages and let it find the relevant patterns that separate the two different categories."
   ]
  },
  {
   "cell_type": "markdown",
   "id": "f78ea9d0",
   "metadata": {},
   "source": [
    "-----------------"
   ]
  },
  {
   "cell_type": "markdown",
   "id": "5c913709",
   "metadata": {},
   "source": [
    "9. What is the concept of an online learning system?\n"
   ]
  },
  {
   "cell_type": "markdown",
   "id": "32340b80",
   "metadata": {},
   "source": [
    "In an online learning system, the machine learns continuously as data is supplied in small streams."
   ]
  },
  {
   "cell_type": "markdown",
   "id": "69bfd2d7",
   "metadata": {},
   "source": [
    "-------------"
   ]
  },
  {
   "cell_type": "markdown",
   "id": "e49cbded",
   "metadata": {},
   "source": [
    "10. What is out-of-core learning, and how does it differ from core learning?"
   ]
  },
  {
   "cell_type": "markdown",
   "id": "69bc5438",
   "metadata": {},
   "source": [
    "Out of core learning is when the machine relies on online learning to feed it data as it doesn't sustain the memory power."
   ]
  },
  {
   "cell_type": "markdown",
   "id": "d62fa18e",
   "metadata": {},
   "source": [
    "---------------"
   ]
  },
  {
   "cell_type": "markdown",
   "id": "ea4851bd",
   "metadata": {},
   "source": [
    "11. What kind of learning algorithm makes predictions using a similarity measure?"
   ]
  },
  {
   "cell_type": "markdown",
   "id": "f7a8ef5c",
   "metadata": {},
   "source": [
    "Instance based algorithm."
   ]
  },
  {
   "cell_type": "markdown",
   "id": "de4021eb",
   "metadata": {},
   "source": [
    "----------"
   ]
  },
  {
   "cell_type": "markdown",
   "id": "a3af4df9",
   "metadata": {},
   "source": [
    "12. What&#39;s the difference between a model parameter and a hyperparameter in a learning algorithm?"
   ]
  },
  {
   "cell_type": "markdown",
   "id": "99d8d4aa",
   "metadata": {},
   "source": [
    "- A model parameter is a configuration variable that is internal to the model and whose value can be estimated from data such as slope of a linear model.\n",
    "\n",
    "- A model hyperparameter is a configuration that is external to the model and whose value cannot be estimated from data."
   ]
  },
  {
   "cell_type": "markdown",
   "id": "a2ee9128",
   "metadata": {},
   "source": [
    "--------------"
   ]
  },
  {
   "cell_type": "markdown",
   "id": "5a385b88",
   "metadata": {},
   "source": [
    "13. What are the criteria that model-based learning algorithms look for? What is the most popular method they use to achieve success? What method do they use to make predictions?"
   ]
  },
  {
   "cell_type": "markdown",
   "id": "d754f425",
   "metadata": {},
   "source": [
    "- Model based learning algorithm search for the optimal value of parameters in a model that will give the best results for the new instances. \n",
    "- We often use a cost function or similar to determine what the parameter value has to be in order to minimize the function. \n",
    "- The model makes prediction by using the value of the new instance and the parameters in its function."
   ]
  },
  {
   "cell_type": "markdown",
   "id": "8ab90f06",
   "metadata": {},
   "source": [
    "---------------"
   ]
  },
  {
   "cell_type": "markdown",
   "id": "5813a86f",
   "metadata": {},
   "source": [
    "14. Can you name four of the most important Machine Learning challenges?"
   ]
  },
  {
   "cell_type": "markdown",
   "id": "3a6331cc",
   "metadata": {},
   "source": [
    "1. Inadequate Training data\n",
    "2. Poor quality of data\n",
    "3. Non-representative training data\n",
    "4. Overfitting and Underfitting"
   ]
  },
  {
   "cell_type": "markdown",
   "id": "0e2f79f8",
   "metadata": {},
   "source": [
    "-------------"
   ]
  },
  {
   "cell_type": "markdown",
   "id": "22a57056",
   "metadata": {},
   "source": [
    "15. What happens if the model performs well on the training data but fails to generalize the results to new situations? Can you think of three different options?"
   ]
  },
  {
   "cell_type": "markdown",
   "id": "44d98eb3",
   "metadata": {},
   "source": [
    "- If the model performs poorly to new instances, then it has overfitted on the training data. \n",
    "- To solve this, we can do any of the following three:\n",
    "\n",
    "1. Get more data\n",
    "2. Implement a simpler model\n",
    "3. Eliminate outliers or noise from the existing data set."
   ]
  },
  {
   "cell_type": "markdown",
   "id": "76e23e4a",
   "metadata": {},
   "source": [
    "------------"
   ]
  },
  {
   "cell_type": "markdown",
   "id": "6ed2a88c",
   "metadata": {},
   "source": [
    "16. What exactly is a test set, and why would you need one?\n"
   ]
  },
  {
   "cell_type": "markdown",
   "id": "826e09c2",
   "metadata": {},
   "source": [
    "Test set is a set to test your model (fit using training data) to see how it performs. A test set is necessary to determine how good (or bad) a model performs."
   ]
  },
  {
   "cell_type": "markdown",
   "id": "2f802168",
   "metadata": {},
   "source": [
    "-------------"
   ]
  },
  {
   "cell_type": "markdown",
   "id": "2f1a3793",
   "metadata": {},
   "source": [
    "17. What is a validation set&#39;s purpose?"
   ]
  },
  {
   "cell_type": "markdown",
   "id": "48568cf2",
   "metadata": {},
   "source": [
    "Validation set is a set used to compare between different training models."
   ]
  },
  {
   "cell_type": "markdown",
   "id": "280bcfdd",
   "metadata": {},
   "source": [
    "------------"
   ]
  },
  {
   "cell_type": "markdown",
   "id": "1077559b",
   "metadata": {},
   "source": [
    "18. What precisely is the train-dev kit, when will you need it, how do you put it to use?"
   ]
  },
  {
   "cell_type": "markdown",
   "id": "f9611104",
   "metadata": {},
   "source": [
    "- Cross-validation is a tool to compare models without needing a separate validation set. It is preferred over validation set because we can save from breaking of part of the training set to create a validation set, as having more data is valuable regardless.\n",
    "- Using CV to evaluate ML models by training several ML models on subsets of the available input data and evaluating them on the complementary subset of the data. \n",
    "- Use cross-validation to detect overfitting, ie, failing to generalize a pattern."
   ]
  },
  {
   "cell_type": "markdown",
   "id": "f8a634c9",
   "metadata": {},
   "source": [
    "--------------"
   ]
  },
  {
   "cell_type": "markdown",
   "id": "9365645d",
   "metadata": {},
   "source": [
    "19. What could go wrong if you use the test set to tune hyperparameters?"
   ]
  },
  {
   "cell_type": "markdown",
   "id": "f193cd62",
   "metadata": {},
   "source": [
    "If you use test set to tune hyperparameters, it may not perform well on out of sample data since these hyperparameters are tuned for a specific set."
   ]
  }
 ],
 "metadata": {
  "kernelspec": {
   "display_name": "Python 3 (ipykernel)",
   "language": "python",
   "name": "python3"
  },
  "language_info": {
   "codemirror_mode": {
    "name": "ipython",
    "version": 3
   },
   "file_extension": ".py",
   "mimetype": "text/x-python",
   "name": "python",
   "nbconvert_exporter": "python",
   "pygments_lexer": "ipython3",
   "version": "3.9.12"
  }
 },
 "nbformat": 4,
 "nbformat_minor": 5
}

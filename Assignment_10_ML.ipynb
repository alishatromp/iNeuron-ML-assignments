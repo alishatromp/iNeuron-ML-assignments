{
 "cells": [
  {
   "cell_type": "markdown",
   "id": "2f769a24",
   "metadata": {},
   "source": [
    "### 1. Define the Bayesian interpretation of probability.\n",
    "\n",
    "According to the Bayesian interpretation, probability is a way to quantify an individual's degree of belief or confidence in the occurrence of an event, based on the available evidence or information. Instead of considering probability as an objective property of the event itself, as in the frequentist interpretation, Bayesian probability reflects the state of knowledge and information of the person making the probability assessment.\n",
    "\n",
    "In the Bayesian framework, probability is updated through a process known as Bayesian inference. Initially, an individual starts with a prior probability, which represents their initial belief about the event before any new evidence is considered. As new evidence becomes available, the prior probability is updated using Bayes' theorem, which relates the prior probability, the likelihood of the evidence given the event, and the probability of the evidence occurring. This update leads to a posterior probability, which represents the revised belief or uncertainty after incorporating the new evidence.\n",
    "\n",
    "The Bayesian interpretation allows for a flexible and coherent approach to reasoning under uncertainty, as it accommodates the incorporation of prior knowledge and the updating of probabilities as new information arises. It is widely used in various fields, including statistics, machine learning, decision theory, and artificial intelligence, to model and make inferences about uncertain events in a principled manner."
   ]
  },
  {
   "cell_type": "markdown",
   "id": "4f33d509",
   "metadata": {},
   "source": [
    "------------"
   ]
  },
  {
   "cell_type": "markdown",
   "id": "4faec576",
   "metadata": {},
   "source": [
    "### 2. Define probability of a union of two events with equation."
   ]
  },
  {
   "cell_type": "markdown",
   "id": "e62a07fd",
   "metadata": {},
   "source": [
    "The probability of the union of two events, denoted as P(A ∪ B), can be defined using the following equation:\n",
    "\n",
    "P(A ∪ B) = P(A) + P(B) - P(A ∩ B)\n",
    "\n",
    "In this equation, P(A) represents the probability of event A occurring, P(B) represents the probability of event B occurring, and P(A ∩ B) represents the probability of both events A and B occurring simultaneously (the intersection of A and B)."
   ]
  },
  {
   "cell_type": "markdown",
   "id": "c047eb58",
   "metadata": {},
   "source": [
    "-------"
   ]
  },
  {
   "cell_type": "markdown",
   "id": "783e60e0",
   "metadata": {},
   "source": [
    "### 3. What is joint probability? What is its formula?"
   ]
  },
  {
   "cell_type": "markdown",
   "id": "1d1127ce",
   "metadata": {},
   "source": [
    "Joint probability refers to the probability of two or more events occurring simultaneously. It quantifies the likelihood of the joint occurrence of multiple events.\n",
    "\n",
    "For two events, A and B, the joint probability is denoted as P(A, B) or P(A ∩ B), where \"∩\" represents the intersection of events A and B. Joint probability provides information about the simultaneous occurrence of both events.\n",
    "\n",
    "The joint probability can be calculated in different ways depending on the context and assumptions. For independent events, where the occurrence of one event does not affect the probability of the other, the joint probability is simply the product of the individual probabilities:\n",
    "\n",
    "P(A, B) = P(A) * P(B)\n",
    "\n",
    "For dependent events, where the occurrence of one event does affect the probability of the other, the joint probability is determined using conditional probability:\n",
    "\n",
    "P(A, B) = P(A | B) * P(B)\n",
    "\n",
    "Here, P(A | B) represents the conditional probability of event A given that event B has occurred."
   ]
  },
  {
   "cell_type": "markdown",
   "id": "8124752d",
   "metadata": {},
   "source": [
    "-----"
   ]
  },
  {
   "cell_type": "markdown",
   "id": "207f3ae9",
   "metadata": {},
   "source": [
    "### 4. What is chain rule of probability?"
   ]
  },
  {
   "cell_type": "markdown",
   "id": "2462eb20",
   "metadata": {},
   "source": [
    "The chain rule of probability, also known as the multiplication rule, is a fundamental principle in probability theory that allows us to calculate the probability of the joint occurrence of multiple events by breaking it down into a sequence of conditional probabilities.\n",
    "\n",
    "The chain rule of probability states that the probability of the joint occurrence of two or more events can be calculated by multiplying the conditional probabilities of each event given the occurrence of the preceding events.\n",
    "\n",
    "Mathematically, for a sequence of events A₁, A₂, ..., Aₙ, the chain rule can be expressed as:\n",
    "\n",
    "P(A₁, A₂, ..., Aₙ) = P(A₁) * P(A₂ | A₁) * P(A₃ | A₁, A₂) * ... * P(Aₙ | A₁, A₂, ..., Aₙ₋₁)"
   ]
  },
  {
   "cell_type": "markdown",
   "id": "0cfef087",
   "metadata": {},
   "source": [
    "--------"
   ]
  },
  {
   "cell_type": "markdown",
   "id": "77271ee4",
   "metadata": {},
   "source": [
    "### 5. What is conditional probability means? What is the formula of it?\n",
    "\n",
    "Conditional probability is a concept in probability theory that represents the probability of an event occurring given that another event has already occurred or is known to have occurred. It quantifies the likelihood of an event happening under specific conditions or assumptions.\n",
    "\n",
    "Conditional probability is denoted as P(A | B), which reads as \"the probability of event A given event B.\" Here, A and B represent two events, and \"|\" represents \"given\" or \"conditional on.\"\n",
    "\n",
    "The formula for calculating conditional probability is as follows:\n",
    "\n",
    "P(A | B) = P(A ∩ B) / P(B)\n",
    "\n",
    "In this equation, P(A ∩ B) represents the probability of both events A and B occurring simultaneously (the intersection of A and B), and P(B) represents the probability of event B occurring."
   ]
  },
  {
   "cell_type": "markdown",
   "id": "679f0ecc",
   "metadata": {},
   "source": [
    "------------"
   ]
  },
  {
   "cell_type": "markdown",
   "id": "9c5d5502",
   "metadata": {},
   "source": [
    "### 6. What are continuous random variables?\n",
    "\n",
    "Continuous random variables are variables in probability theory that can take on any value within a specified range or interval. \n",
    "\n",
    "A continuous random variable is characterized by its probability density function (PDF), which describes the probability distribution of the variable's values. The PDF represents the likelihood of the random variable assuming a specific value or falling within a certain range of values."
   ]
  },
  {
   "cell_type": "markdown",
   "id": "2129f27c",
   "metadata": {},
   "source": [
    "---------"
   ]
  },
  {
   "cell_type": "markdown",
   "id": "3f236d97",
   "metadata": {},
   "source": [
    "### 7. What are Bernoulli distributions? What is the formula of it?\n",
    "\n",
    "he Bernoulli distribution is a discrete probability distribution that models a random variable with only two possible outcomes, typically labeled as \"success\" and \"failure.\" It is named after Jacob Bernoulli, a Swiss mathematician who introduced the concept.\n",
    "\n",
    "The Bernoulli distribution is commonly used to model situations where an event can have only two possible outcomes with probabilities of success (denoted as p) and failure (denoted as q = 1 - p). The outcomes are mutually exclusive, meaning that only one of the outcomes can occur at a time."
   ]
  },
  {
   "cell_type": "markdown",
   "id": "3ec1cb24",
   "metadata": {},
   "source": [
    "------------"
   ]
  },
  {
   "cell_type": "markdown",
   "id": "f316bb72",
   "metadata": {},
   "source": [
    "### 8. What is binomial distribution? What is the formula?\n",
    "\n",
    "The binomial distribution is a discrete probability distribution that models the number of successes in a fixed number of independent Bernoulli trials. It is widely used in statistics and probability theory to describe situations with binary outcomes, where each trial has only two possible outcomes: success or failure.\n",
    "\n",
    "The binomial distribution assumes that each trial is independent of the others. The outcome of one trial does not affect the outcome of subsequent trials.The distribution is defined for a fixed number of trials, denoted as n. The trials are identical and have the same probability of success. Each trial has the same probability of success, denoted as p. The probability of failure is q = 1 - p.\n",
    "\n",
    "The probability mass function (PMF) of the binomial distribution is given by the formula:\n",
    "\n",
    "P(X = k) = C(n, k) * p^k * q^(n-k)\n",
    "\n",
    "Here, X represents the random variable that follows a binomial distribution, k represents the number of successes, n represents the number of trials, p represents the probability of success in each trial, q represents the probability of failure, and C(n, k) represents the binomial coefficient, which is the number of ways to choose k successes from n trials."
   ]
  },
  {
   "cell_type": "markdown",
   "id": "d56b21cb",
   "metadata": {},
   "source": [
    "---------"
   ]
  },
  {
   "cell_type": "markdown",
   "id": "0b5e304c",
   "metadata": {},
   "source": [
    "### 9. What is Poisson distribution? What is the formula?\n",
    "\n",
    "The Poisson distribution is a discrete probability distribution that models the number of events that occur within a fixed interval of time or space. It is often used to describe rare events that occur independently and randomly at a constant average rate.\n",
    "\n",
    "The probability mass function (PMF) of the Poisson distribution is given by the formula:\n",
    "\n",
    "P(X = k) = (e^(-λ) * λ^k) / k!\n",
    "\n",
    "Here, X represents the random variable that follows a Poisson distribution, k represents the number of events, λ represents the average rate of events in the given interval, e is the base of the natural logarithm (approximately 2.71828), and k! represents the factorial of k.\n"
   ]
  },
  {
   "cell_type": "markdown",
   "id": "66c8738e",
   "metadata": {},
   "source": [
    "--------"
   ]
  },
  {
   "cell_type": "markdown",
   "id": "118c9381",
   "metadata": {},
   "source": [
    "### 10. Define covariance.\n",
    "\n",
    "Covariance is a statistical measure that quantifies the relationship between two random variables. It measures how changes in one variable are associated with changes in another variable. Specifically, covariance indicates whether the two variables tend to vary together or in opposite directions."
   ]
  },
  {
   "cell_type": "markdown",
   "id": "fae7efa9",
   "metadata": {},
   "source": [
    "-----------"
   ]
  },
  {
   "cell_type": "markdown",
   "id": "c01c7809",
   "metadata": {},
   "source": [
    "### 11. Define correlation\n",
    "Correlation is a statistical measure that quantifies the strength and direction of the linear relationship between two random variables. It is used to assess how closely the values of one variable are associated with the values of another variable.\n",
    "\n",
    "Correlation is often denoted by the symbol \"r\" and takes values between -1 and 1, where:\n",
    "\n",
    "A correlation of +1 indicates a perfect positive relationship, meaning that as one variable increases, the other variable increases proportionally. The data points form a perfect upward-sloping line.\n",
    "\n",
    "A correlation of -1 indicates a perfect negative relationship, meaning that as one variable increases, the other variable decreases proportionally. The data points form a perfect downward-sloping line.\n",
    "\n",
    "A correlation of 0 indicates no linear relationship between the variables. The variables are independent of each other, and the data points appear scattered randomly."
   ]
  },
  {
   "cell_type": "markdown",
   "id": "4796ab22",
   "metadata": {},
   "source": [
    "--------"
   ]
  },
  {
   "cell_type": "markdown",
   "id": "1974dbe8",
   "metadata": {},
   "source": [
    "### 12. Define sampling with replacement. Give example.\n",
    "\n",
    "Sampling with replacement is a sampling method in which an item or element selected from a population is returned to the population before the next selection is made. This means that the same item has the potential to be selected more than once in the sampling process. Each selection is independent and does not affect the availability or probability of selection for subsequent items.\n",
    "\n",
    "An example of sampling with replacement is the random selection of colored balls from an urn. Imagine an urn containing 10 balls, 5 red and 5 blue. If we sample with replacement, we would randomly select one ball from the urn, note its color, and then return it to the urn. The ball is then mixed with the remaining balls before the next selection. This process is repeated for a specified number of times or until a desired sample size is obtained.\n",
    "\n",
    "For instance, in the first selection, we may randomly draw a red ball. After noting its color, we return it to the urn along with the other 9 balls. In the second selection, there is still a chance of selecting the same red ball again since the selection is independent and the ball was returned to the urn. The process continues for subsequent selections."
   ]
  },
  {
   "cell_type": "markdown",
   "id": "07472d55",
   "metadata": {},
   "source": [
    "--------"
   ]
  },
  {
   "cell_type": "markdown",
   "id": "43da63c1",
   "metadata": {},
   "source": [
    "### 13. What is sampling without replacement? Give example.\n",
    "\n",
    "Sampling without replacement is a sampling method in which each selected item or element is removed from the population before the next selection is made. Once an item is chosen, it is not available for subsequent selections, resulting in a decrease in the population size with each selection.\n",
    "\n",
    "An example of sampling without replacement is drawing cards from a standard deck of 52 cards. When you randomly select a card from the deck, it is removed, and the deck size decreases by one. The next card is then selected from the reduced deck, and this process continues until the desired sample size is reached.\n",
    "\n",
    "For instance, in the first selection, you randomly draw a card from the deck. Let's say it is the Ace of Hearts. The card is then removed from the deck, leaving 51 cards remaining. In the second selection, you choose another card from the reduced deck. Since the Ace of Hearts was already selected and removed, it is not available for this selection. The process continues for subsequent selections, with the population size decreasing each time."
   ]
  },
  {
   "cell_type": "markdown",
   "id": "41e03d25",
   "metadata": {},
   "source": [
    "--------"
   ]
  },
  {
   "cell_type": "markdown",
   "id": "a70164e7",
   "metadata": {},
   "source": [
    "### 14. What is hypothesis? Give example."
   ]
  },
  {
   "cell_type": "markdown",
   "id": "0dc743cd",
   "metadata": {},
   "source": [
    "A hypothesis is a statement or proposition that suggests a relationship or difference between variables or phenomena. It serves as a tentative explanation or prediction that can be tested and investigated through empirical research.\n",
    "\n",
    "A hypothesis typically consists of two parts:\n",
    "\n",
    "Null Hypothesis (H0): The null hypothesis is a statement of no effect or no relationship. It assumes that there is no significant difference or association between variables. Researchers usually aim to challenge or reject the null hypothesis.\n",
    "\n",
    "Alternative Hypothesis (H1 or Ha): The alternative hypothesis is a statement that contradicts the null hypothesis. It suggests that there is a significant difference, effect, or relationship between variables.\n",
    "\n",
    "Example:\n",
    "\n",
    "Null Hypothesis (H0): There is no significant difference in student performance between the traditional teaching method and the new teaching method.\n",
    "\n",
    "Alternative Hypothesis (H1): The new teaching method leads to significantly higher student performance compared to the traditional teaching method.\n",
    "\n",
    "Outcome: Researchers collect data and perform statistical tests to evaluate the evidence against the null hypothesis. Based on the analysis and the observed data, they make conclusions about whether to accept or reject the null hypothesis in favor of the alternative hypothesis."
   ]
  }
 ],
 "metadata": {
  "kernelspec": {
   "display_name": "Python 3 (ipykernel)",
   "language": "python",
   "name": "python3"
  },
  "language_info": {
   "codemirror_mode": {
    "name": "ipython",
    "version": 3
   },
   "file_extension": ".py",
   "mimetype": "text/x-python",
   "name": "python",
   "nbconvert_exporter": "python",
   "pygments_lexer": "ipython3",
   "version": "3.9.12"
  }
 },
 "nbformat": 4,
 "nbformat_minor": 5
}

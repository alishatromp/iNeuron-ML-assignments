{
 "cells": [
  {
   "cell_type": "markdown",
   "id": "ab053f33",
   "metadata": {},
   "source": [
    "### 1. A set of one-dimensional data points is given to you: 5, 10, 15, 20, 25, 30, 35. Assume that k = 2 and that the first set of random centroid is 15, 32, and that the second set is 12, 30.\n",
    "\n",
    "a) Using the k-means method, create two clusters for each set of centroid described above.\n",
    "\n",
    "b) For each set of centroid values, calculate the SSE."
   ]
  },
  {
   "cell_type": "markdown",
   "id": "adc8ec0f",
   "metadata": {},
   "source": [
    "1) Initialize the centroids\n",
    "\n",
    "Set 1: Centroids C1 = 15, C2 = 32. \n",
    "Set 2: Centroids C1 = 12, C2 = 30.\n",
    "\n",
    "2) Assign each data point to the nearest centroid.\n",
    "\n",
    "Set 1:\n",
    "\n",
    "- 5 -->  C1\n",
    "- 10 --> C1\n",
    "- 15 --> C1\n",
    "- 20 --> C2\n",
    "- 25 --> C2\n",
    "- 30 --> C2\n",
    "- 35 --> C2\n",
    "\n",
    "Set 2: \n",
    "\n",
    "- 5 --> C1\n",
    "- 10 --> C1\n",
    "- 15 --> C1\n",
    "- 20 --> C1\n",
    "- 25 --> C1\n",
    "- 30 --> C2\n",
    "- 35 --> C2\n",
    "\n",
    "\n",
    "b) Set 1 SSE:\n",
    "Cluster 1 SSE = (5-15)^2 + (10-15)^2 + (15-15)^2 = 100 + 25 + 0 = 125\n",
    "\n",
    "Cluster 2 SSE = (20-32)^2 + (30-32)^2 + (35-32)^2 = 64 + 4 + 9 = 77\n",
    "\n",
    "Set 2 SSE: \n",
    "Cluster 1 SSE = (5-12)^2 + (10-12)^2 + (15-12)^2 + (20-12)^2 + (25-12)^2 = 49 + 4 + 9 + 64 + 169 = 295\n",
    "\n",
    "Cluster 2 SSE = (30-30)^2 + (35-30)^2 = 0 + 25 = 25\n",
    "\n",
    "Ans = SSE for Set 1\n",
    "\n",
    "Cluster 1 = 125\n",
    "\n",
    "CLuster 2 = 77\n",
    "\n",
    "SSE for Set 2\n",
    "\n",
    "Cluster 1 = 295\n",
    "\n",
    "Cluster 2 = 25"
   ]
  },
  {
   "cell_type": "markdown",
   "id": "202ff1f4",
   "metadata": {},
   "source": [
    "-----------"
   ]
  },
  {
   "cell_type": "markdown",
   "id": "b017a829",
   "metadata": {},
   "source": [
    "### 2. Describe how the Market Basket Research makes use of association analysis concepts."
   ]
  },
  {
   "cell_type": "markdown",
   "id": "3459445a",
   "metadata": {},
   "source": [
    "It is a data mining technique used to discover relationships between items that are frequently purchased together. \n",
    "\n",
    "Using measures for frequency or occurrence of an itemset, it calculates the number of transactions containing the itemset divided by the total # of transactions. "
   ]
  },
  {
   "cell_type": "markdown",
   "id": "029d3459",
   "metadata": {},
   "source": [
    "-----------"
   ]
  },
  {
   "cell_type": "markdown",
   "id": "d2ddc4a9",
   "metadata": {},
   "source": [
    "### 3. Give an example of the Apriori algorithm for learning association rules."
   ]
  },
  {
   "cell_type": "markdown",
   "id": "54b934f6",
   "metadata": {},
   "source": [
    "Say we go to the supermarket to buy milk,bread and eggs.\n",
    "We have these transactions:\n",
    "1. Bread\n",
    "2. Bread, eggs\n",
    "3. Bread, milk\n",
    "4. Milk, eggs\n",
    "\n",
    "1) We calculate the support for each transaction: Bread = 0.75, Eggs = 0.5, Milk = 0.5.\n",
    "\n",
    "2) Generate frequent itemsets of size 2 with a min_support of 0.5\n",
    "\n",
    "3) Analyse the results: All the transactions have min support of 0.5 and over hence these items are most likely to be paired together in customers basket."
   ]
  },
  {
   "cell_type": "markdown",
   "id": "fe7f678a",
   "metadata": {},
   "source": [
    "----------"
   ]
  },
  {
   "cell_type": "markdown",
   "id": "59eee4e2",
   "metadata": {},
   "source": [
    "### 4. In hierarchical clustering, how is the distance between clusters measured? Explain how this metric is used to decide when to end the iteration.\n"
   ]
  },
  {
   "cell_type": "markdown",
   "id": "5f090d8b",
   "metadata": {},
   "source": [
    "In hierarchical clustering, the distance between clusters is typically measured using a distance metric such as \n",
    "1. Euclidean distance, \n",
    "\n",
    "2. Manhattan distance, or correlation distance. \n",
    "\n",
    "Once the distance between clusters is determined, hierarchical clustering proceeds by iteratively merging clusters based on their distances until a termination criterion is met."
   ]
  },
  {
   "cell_type": "markdown",
   "id": "ff36c3f4",
   "metadata": {},
   "source": [
    "--------------"
   ]
  },
  {
   "cell_type": "markdown",
   "id": "4bf7fe69",
   "metadata": {},
   "source": [
    "### 5. In the k-means algorithm, how do you recompute the cluster centroids?"
   ]
  },
  {
   "cell_type": "markdown",
   "id": "7e873a62",
   "metadata": {},
   "source": [
    "Assign each data point to the nearest centroid: For each data point, calculate its distance to each centroid and assign it to the cluster represented by the nearest centroid. This step is also known as the \"assignment\" or \"labeling\" step.\n",
    "\n",
    "Recompute the centroids: Once all data points have been assigned to clusters, calculate the new centroid for each cluster by taking the mean of all data points assigned to that cluster. This step is also known as the \"update\" or \"recomputation\" step."
   ]
  },
  {
   "cell_type": "markdown",
   "id": "c8748754",
   "metadata": {},
   "source": [
    "---------"
   ]
  },
  {
   "cell_type": "markdown",
   "id": "7a530f91",
   "metadata": {},
   "source": [
    "### 6. At the start of the clustering exercise, discuss one method for determining the required number of clusters."
   ]
  },
  {
   "cell_type": "markdown",
   "id": "14edc1d5",
   "metadata": {},
   "source": [
    "One commonly used method is the \"elbow method.\"\n",
    "\n",
    "Identify the \"elbow\" in the plot: Analyze the plot and look for a point where the SSE decreases sharply and then starts to level off. This point resembles an elbow shape. The elbow point indicates a significant improvement in clustering by adding more clusters."
   ]
  },
  {
   "cell_type": "markdown",
   "id": "f3656301",
   "metadata": {},
   "source": [
    "---------"
   ]
  },
  {
   "cell_type": "markdown",
   "id": "4f7b26bc",
   "metadata": {},
   "source": [
    "### 7. Discuss the k-means algorithm&#39;s advantages and disadvantages."
   ]
  },
  {
   "cell_type": "markdown",
   "id": "8a1ac606",
   "metadata": {},
   "source": [
    "Advantages of k-means \n",
    "1. Simple to use\n",
    "2. Scalable\n",
    "3. Interpretability\n",
    "4. Versatile\n",
    "\n",
    "Disadvanatges:\n",
    "1. Sensitive to initial centroid selection\n",
    "2. Requires the number of clusters to be specified\n",
    "3. Assumes spherical and equal sized clusters\n",
    "4. Affected by data normalization\n",
    "5. Limited to numerical data"
   ]
  },
  {
   "cell_type": "markdown",
   "id": "5d348c16",
   "metadata": {},
   "source": [
    "---------"
   ]
  },
  {
   "cell_type": "markdown",
   "id": "6d40a2bf",
   "metadata": {},
   "source": [
    "### 8. Draw a diagram to demonstrate the principle of clustering.\n"
   ]
  },
  {
   "cell_type": "code",
   "execution_count": 4,
   "id": "3f135ff7",
   "metadata": {},
   "outputs": [
    {
     "data": {
      "text/plain": [
       "<matplotlib.collections.PathCollection at 0x29689adea90>"
      ]
     },
     "execution_count": 4,
     "metadata": {},
     "output_type": "execute_result"
    },
    {
     "data": {
      "image/png": "[encoded data removed]",
      "text/plain": [
       "<Figure size 432x288 with 1 Axes>"
      ]
     },
     "metadata": {
      "needs_background": "light"
     },
     "output_type": "display_data"
    }
   ],
   "source": [
    "import pandas as pd\n",
    "import numpy as np\n",
    "import matplotlib.pyplot as plt\n",
    "from sklearn.datasets import make_blobs\n",
    "\n",
    "X,y=make_blobs(n_samples=500, centers = 3, n_features=2, random_state=10)\n",
    "plt.scatter(X[:,0],X[:,1])"
   ]
  },
  {
   "cell_type": "markdown",
   "id": "f7fa2c8a",
   "metadata": {},
   "source": [
    "--------"
   ]
  },
  {
   "cell_type": "markdown",
   "id": "9b4aa3ce",
   "metadata": {},
   "source": [
    "## 9. During your study, you discovered seven findings, which are listed in the data points below. Using the K-means algorithm, you want to build three clusters from these observations. The clusters C1, C2, and C3 have the following findings after the first iteration:\n",
    "\n",
    "C1: (2,2), (4,4), (6,6); C2: (2,2), (4,4), (6,6); C3: (2,2), (4,4),\n",
    "\n",
    "C2: (0,4), (4,0), (0,4), (0,4), (0,4), (0,4), (0,4), (0,4), (0,4)\n",
    "\n",
    "C3: (5,5) and (9,9)\n",
    "\n",
    "What would the cluster centroids be if you were to run a second iteration? What would this\n",
    "clustering&#39;s SSE be?"
   ]
  },
  {
   "cell_type": "markdown",
   "id": "61dfd9a2",
   "metadata": {},
   "source": [
    "C1: (2,2), (4,4), (6,6)\n",
    "C2: (0,4), (4,0), (0,4), (0,4), (0,4), (0,4), (0,4), (0,4), (0,4)\n",
    "C3: (2,2), (4,4), (5,5), (9,9)\n",
    "\n",
    "Now, let's calculate the cluster centroids after the second iteration:\n",
    "\n",
    "C1: Cluster centroid = [(2+4+6)/3, (2+4+6)/3] = [4, 4]\n",
    "\n",
    "C2: Cluster centroid = [(0+4+0+0+0+0+0+0+0)/9, (4+0+4+4+4+4+4+4+4)/9] = [0.89, 3.78]\n",
    "\n",
    "C3: Cluster centroid = [(2+4+5+9)/4, (2+4+5+9)/4] = [5,5]\n",
    "\n",
    "After the second iteration, the updated cluster centroids are:\n",
    "\n",
    "C1: [4,4]\n",
    "\n",
    "C2: [0.89, 3.78]\n",
    "\n",
    "C3: [5,5]"
   ]
  },
  {
   "cell_type": "markdown",
   "id": "1ccac104",
   "metadata": {},
   "source": [
    "The SSE is for Cluster 1\n",
    "\n",
    "([2-4)^2 + (4-4)^2 + (6-4)^2] + [2-4)^2 + (4-4)^2 + (6-4)^2]) = 4 + 0 + 4 + 4 + 0 + 4 = 16\n",
    "\n",
    "SSE for Cluster 2\n",
    "\n",
    "([0-0.89)^2 + (4-3.78)^2] + [(4-0.89)^2 + (0-3.78)^2].... = 11.95\n",
    "\n",
    "SSE for Cluster 3\n",
    "\n",
    "([2-5)^2 + (2-5)^2] + [(4-5)^2 + (4-5)^2] + [(5-5)^2 + (5-5)^2] + [(9-5)^2 + (9-5)^2] = 18 + 2 + 0 + 32 = 52 \n",
    "\n",
    "Total SSE is 16 + 11.95 + 52 = 79.95"
   ]
  },
  {
   "cell_type": "markdown",
   "id": "67145360",
   "metadata": {},
   "source": [
    "---------"
   ]
  },
  {
   "cell_type": "markdown",
   "id": "65d31603",
   "metadata": {},
   "source": [
    "### 10. In a software project, the team is attempting to determine if software flaws discovered during testing are identical. Based on the text analytics of the defect details, they decided to build 5 clusters of related defects. Any new defect formed after the 5 clusters of defects have been identified must be listed as one of the forms identified by clustering. A simple diagram can be used to explain this process. Assume you have 20 defect data points that are clustered into 5 clusters and you used the k-means algorithm."
   ]
  },
  {
   "cell_type": "markdown",
   "id": "369395ab",
   "metadata": {},
   "source": [
    "Imagine a diagram with 20 defect data points represented as dots or circles. Each defect data point is labeled with its corresponding defect details. Now, let's consider the clustering process using the k-means algorithm to create 5 clusters.\n",
    "\n",
    "Initially, the algorithm assigns each defect data point to one of the 5 clusters based on their similarity in defect details. The clusters are represented by different colors or shapes to visually distinguish them.\n",
    "\n",
    "As the k-means algorithm iterates, the clusters gradually form and stabilize. The algorithm reassigns defect data points to clusters based on the updated centroids and similarity measures. This process continues until convergence, where the clusters become relatively stable, and no further reassignment occurs.\n",
    "\n",
    "In the resulting diagram, you would see the 20 defect data points organized into 5 distinct clusters based on their similarity. Each defect data point would be associated with a specific cluster.\n",
    "\n",
    "When a new defect is identified after the 5 clusters have been formed, it goes through the clustering process. The k-means algorithm assigns the new defect to the most suitable cluster based on its similarity to existing defect data points. The cluster membership of the new defect is determined based on its proximity to the centroid of a particular cluster.\n",
    "\n",
    "This process ensures that any new defect formed after the initial 5 clusters are identified is properly listed as one of the clusters identified by the clustering algorithm.\n",
    "\n",
    "While the diagram would provide a visual representation of the clustering process, it's important to note that the k-means algorithm may yield different clustering results based on the initial conditions and random initialization. The diagram would illustrate one possible outcome of the clustering process using the k-means algorithm for the given 20 defect data points."
   ]
  },
  {
   "cell_type": "code",
   "execution_count": 6,
   "id": "51eaa6cd",
   "metadata": {},
   "outputs": [
    {
     "data": {
      "text/plain": [
       "<matplotlib.collections.PathCollection at 0x29689bbe5e0>"
      ]
     },
     "execution_count": 6,
     "metadata": {},
     "output_type": "execute_result"
    },
    {
     "data": {
      "image/png": "[encoded data removed]",
      "text/plain": [
       "<Figure size 432x288 with 1 Axes>"
      ]
     },
     "metadata": {
      "needs_background": "light"
     },
     "output_type": "display_data"
    }
   ],
   "source": [
    "X,y=make_blobs(n_samples=20, centers = 5, n_features=2, random_state=10)\n",
    "plt.scatter(X[:,0],X[:,1])"
   ]
  }
 ],
 "metadata": {
  "kernelspec": {
   "display_name": "Python 3 (ipykernel)",
   "language": "python",
   "name": "python3"
  },
  "language_info": {
   "codemirror_mode": {
    "name": "ipython",
    "version": 3
   },
   "file_extension": ".py",
   "mimetype": "text/x-python",
   "name": "python",
   "nbconvert_exporter": "python",
   "pygments_lexer": "ipython3",
   "version": "3.9.12"
  }
 },
 "nbformat": 4,
 "nbformat_minor": 5
}

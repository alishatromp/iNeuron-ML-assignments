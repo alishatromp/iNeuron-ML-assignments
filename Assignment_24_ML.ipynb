{
 "cells": [
  {
   "cell_type": "markdown",
   "id": "585e91fe",
   "metadata": {},
   "source": [
    "### 1. What is your definition of clustering? What are a few clustering algorithms you might think of?\n"
   ]
  },
  {
   "cell_type": "markdown",
   "id": "bc1287c3",
   "metadata": {},
   "source": [
    "Clustering is a technique used in unsupervised machine learning to group similar data points together based on their inherent similarities or patterns. The goal of clustering is to identify natural groupings within a dataset without prior knowledge of the class labels or any predefined structure.\n",
    "\n",
    "KNN or K-means is one of the most widely used clustering algorithms. It partitions the data into a predetermined number (K) of clusters. It starts by randomly initializing K cluster centroids and then iteratively assigns each data point to the nearest centroid, updating the centroid positions based on the mean of the assigned points. The process continues until convergence."
   ]
  },
  {
   "cell_type": "markdown",
   "id": "1ff1501b",
   "metadata": {},
   "source": [
    "------------"
   ]
  },
  {
   "cell_type": "markdown",
   "id": "f73e3aa7",
   "metadata": {},
   "source": [
    "### 2. What are some of the most popular clustering algorithm applications?\n"
   ]
  },
  {
   "cell_type": "markdown",
   "id": "c7cc4f6f",
   "metadata": {},
   "source": [
    "K-means is one of the most widely used clustering algorithms. It partitions the data into a predetermined number (K) of clusters. It starts by randomly initializing K cluster centroids and then iteratively assigns each data point to the nearest centroid, updating the centroid positions based on the mean of the assigned points. The process continues until convergence."
   ]
  },
  {
   "cell_type": "markdown",
   "id": "4192ec3a",
   "metadata": {},
   "source": [
    "----------"
   ]
  },
  {
   "cell_type": "markdown",
   "id": "231f13b1",
   "metadata": {},
   "source": [
    "### 3. When using K-Means, describe two strategies for selecting the appropriate number of clusters."
   ]
  },
  {
   "cell_type": "markdown",
   "id": "5082ffa8",
   "metadata": {},
   "source": [
    "1. Elbow Method:\n",
    "The Elbow Method is a common approach for selecting the number of clusters in K-means. It involves running the K-means algorithm for a range of cluster numbers and calculating the sum of squared distances (SSD) between each data point and its nearest centroid. The SSD is typically plotted against the number of clusters. The idea is to identify the point on the plot where adding an additional cluster no longer significantly reduces the SSD. This point often resembles an \"elbow\" shape, hence the name. The number of clusters corresponding to the elbow point can be considered as a reasonable choice.\n",
    "\n",
    "2. Silhouette Score:\n",
    "The Silhouette Score is a measure of how well each data point fits into its assigned cluster. It considers both the average distance between a data point and other points in the same cluster (cohesion) and the average distance between a data point and points in neighboring clusters (separation). The Silhouette Score ranges from -1 to 1, where a higher value indicates better cluster separation and cohesion. By calculating the Silhouette Score for different numbers of clusters, one can identify the number of clusters that maximizes the overall score. This approach helps find a balance between cluster quality and quantity."
   ]
  },
  {
   "cell_type": "markdown",
   "id": "7e4d2081",
   "metadata": {},
   "source": [
    "--------"
   ]
  },
  {
   "cell_type": "markdown",
   "id": "c31a9908",
   "metadata": {},
   "source": [
    "### 4. What is back propagation and how does it work? Why would you do it, and how would you do it?"
   ]
  },
  {
   "cell_type": "markdown",
   "id": "1214e02a",
   "metadata": {},
   "source": [
    "Backpropagation, short for \"backward propagation of errors,\" is a key algorithm used in training artificial neural networks, particularly in the context of deep learning. It is a method for adjusting the weights and biases of the network based on the errors obtained during the forward pass, allowing the network to learn and improve its performance over time.\n",
    "\n",
    "In the backward pass (backpropagation), the error is propagated backward through the network. The goal is to update the weights and biases of the network to minimize the error. This is done by iteratively adjusting the weights based on the magnitude and direction of the error gradients."
   ]
  },
  {
   "cell_type": "markdown",
   "id": "d8919e0b",
   "metadata": {},
   "source": [
    "-----------"
   ]
  },
  {
   "cell_type": "markdown",
   "id": "7f803af4",
   "metadata": {},
   "source": [
    "### 5. Provide two examples of clustering algorithms that can handle large datasets. And two that look for high-density areas?"
   ]
  },
  {
   "cell_type": "markdown",
   "id": "0da6c203",
   "metadata": {},
   "source": [
    "1. K-means\n",
    "2. DBSCAN (Density-Based Spatial Clustering of Applications with Noise)\n",
    "\n",
    "i. Mean Shift is a non-parametric clustering algorithm that locates high-density regions in the data space by iteratively shifting the center of a kernel density estimate towards regions of higher density. \n",
    "\n",
    "ii. OPTICS (Ordering Points To Identify the Clustering Structure): OPTICS is a density-based clustering algorithm that extends DBSCAN by creating an ordering of the data points based on their density reachability."
   ]
  },
  {
   "cell_type": "markdown",
   "id": "862b4a16",
   "metadata": {},
   "source": [
    "----------"
   ]
  },
  {
   "cell_type": "markdown",
   "id": "59acb8d6",
   "metadata": {},
   "source": [
    "### 6. Can you think of a scenario in which constructive learning will be advantageous? How can you go about putting it into action?"
   ]
  },
  {
   "cell_type": "markdown",
   "id": "8b00d5a6",
   "metadata": {},
   "source": [
    "A team-based project in an educational or professional setting. Constructive learning is an approach that emphasizes active participation, collaboration, and critical thinking.\n",
    "Create teams with members from various backgrounds, skill sets, and perspectives. This diversity will enhance constructive learning by bringing different ideas and approaches to the table. Assign roles and responsibilities to team members, rotating them periodically to promote a sense of shared ownership and avoid complacency. Encourage each team member to actively engage in problem-solving, decision-making, and idea generation. Encourage team members to think critically by challenging assumptions, questioning existing solutions, and exploring alternative perspectives. \n",
    "Celebrate achievements and learning."
   ]
  },
  {
   "cell_type": "markdown",
   "id": "26f2db10",
   "metadata": {},
   "source": [
    "------------"
   ]
  },
  {
   "cell_type": "markdown",
   "id": "1d6fe2c0",
   "metadata": {},
   "source": [
    "### 7. How do you tell the difference between anomaly and novelty detection?\n"
   ]
  },
  {
   "cell_type": "markdown",
   "id": "67bf7b24",
   "metadata": {},
   "source": [
    "1. Anomaly detection, also known as outlier detection, is concerned with identifying rare instances or observations that significantly deviate from the norm or expected behavior within a dataset.\n",
    "2. Novelty detection, on the other hand, is focused on identifying new or previously unseen data patterns or instances that differ from what has been observed before."
   ]
  },
  {
   "cell_type": "markdown",
   "id": "617958cb",
   "metadata": {},
   "source": [
    "### 8. What is a Gaussian mixture, and how does it work? What are some of the things you can do about it?"
   ]
  },
  {
   "cell_type": "markdown",
   "id": "6b243365",
   "metadata": {},
   "source": [
    "A Gaussian mixture model (GMM) is a probabilistic model that represents a probability distribution as a mixture of Gaussian (normal) distributions. It is a flexible model that can capture complex data distributions by combining multiple Gaussian components. Each Gaussian component represents a cluster or a subpopulation within the data.\n",
    "\n",
    "1. You can use techniques like the Bayesian Information Criterion (BIC) or cross-validation to determine the appropriate number of Gaussian components for the mixture model.\n",
    "2. Different initialization strategies can be employed to improve convergence and avoid local optima, such as using k-means to initialize the means or using hierarchical clustering to initialize the covariance matrices.\n",
    "3. Gaussian mixture models are widely used in various fields, including pattern recognition, computer vision, natural language processing, and data analysis, due to their flexibility and ability to capture complex data distributions."
   ]
  },
  {
   "cell_type": "markdown",
   "id": "bd88a455",
   "metadata": {},
   "source": [
    "---------"
   ]
  },
  {
   "cell_type": "markdown",
   "id": "1bbbb1e4",
   "metadata": {},
   "source": [
    "### 9. When using a Gaussian mixture model, can you name two techniques for determining the correct number of clusters?"
   ]
  },
  {
   "cell_type": "markdown",
   "id": "10d6ec1d",
   "metadata": {},
   "source": [
    "1. The Bayesian Information Criterion (BIC) is a popular criterion for model selection that balances the goodness of fit with the complexity of the model. \n",
    "2. The Elbow Method is a heuristic approach that relies on visual inspection of a plot of the within-cluster sum of squares (WCSS) as a function of the number of clusters. "
   ]
  }
 ],
 "metadata": {
  "kernelspec": {
   "display_name": "Python 3 (ipykernel)",
   "language": "python",
   "name": "python3"
  },
  "language_info": {
   "codemirror_mode": {
    "name": "ipython",
    "version": 3
   },
   "file_extension": ".py",
   "mimetype": "text/x-python",
   "name": "python",
   "nbconvert_exporter": "python",
   "pygments_lexer": "ipython3",
   "version": "3.9.12"
  }
 },
 "nbformat": 4,
 "nbformat_minor": 5
}

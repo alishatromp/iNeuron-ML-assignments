{
 "cells": [
  {
   "cell_type": "markdown",
   "id": "cfb6eea0",
   "metadata": {},
   "source": [
    "### 1. Using a graph to illustrate slope and intercept, define basic linear regression."
   ]
  },
  {
   "cell_type": "markdown",
   "id": "af150fb7",
   "metadata": {},
   "source": [
    "The graph has the dependent variable (Y) on the vertical axis and the independent variable (X) on the horizontal axis. Each data point is represented by a coordinate (X, Y). The scatter plot displays these data points.\n",
    "\n",
    "The linear regression model is represented by a straight line that best fits the data points. This line is characterized by two parameters: the slope (β₁) and the intercept (β₀). The slope represents the change in the dependent variable for a one-unit increase in the independent variable, and the intercept represents the value of the dependent variable when the independent variable is zero.\n",
    "\n",
    "By estimating the values of the slope and intercept, linear regression finds the best-fitting line that minimizes the differences between the observed data points and the predicted values from the line. This line can be used to make predictions or infer the relationship between the variables."
   ]
  },
  {
   "cell_type": "markdown",
   "id": "be222974",
   "metadata": {},
   "source": [
    "---------"
   ]
  },
  {
   "cell_type": "markdown",
   "id": "c902b964",
   "metadata": {},
   "source": [
    "### 2. In a graph, explain the terms rise, run, and slope."
   ]
  },
  {
   "cell_type": "markdown",
   "id": "0eb447e3",
   "metadata": {},
   "source": [
    "- The \"rise\" refers to the vertical change or the change in the dependent variable (Y-axis) between two points on a line.\n",
    "\n",
    "- The \"run\" refers to the horizontal change or the change in the independent variable (X-axis) between the same two points on a line.\n",
    "\n",
    "- The \"slope\" of a line is a measure of its steepness or inclination and is calculated as the ratio of the rise to the run.\n"
   ]
  },
  {
   "cell_type": "markdown",
   "id": "74f3a941",
   "metadata": {},
   "source": [
    "---------"
   ]
  },
  {
   "cell_type": "markdown",
   "id": "00164dc5",
   "metadata": {},
   "source": [
    "### 3. Use a graph to demonstrate slope, linear positive slope, and linear negative slope, as well as the different conditions that contribute to the slope."
   ]
  },
  {
   "cell_type": "markdown",
   "id": "9618c38b",
   "metadata": {},
   "source": [
    "      ^\n",
    "      |\n",
    "    6 |             *\n",
    "      |           *\n",
    "    4 |         *\n",
    "      |       *\n",
    "    2 |     *\n",
    "      |   *\n",
    "      |_____________________________\n",
    "        0   2   4   6   8   10   12   > x\n",
    "\n",
    "The line has a positive slope because the rise (vertical change) between any two points is positive, while the run (horizontal change) between the same two points is also positive.\n",
    "\n",
    "      ^\n",
    "      |\n",
    "    6 |*   \n",
    "      |  * \n",
    "    4 |    *\n",
    "      |      *\n",
    "    2 |        *\n",
    "      |          *\n",
    "      |_____________________________\n",
    "        0   2   4   6   8   10   12   > x\n",
    "\n",
    "The line has a negative slope because the rise (vertical change) between any two points is negative, while the run (horizontal change) between the same two points is positive."
   ]
  },
  {
   "cell_type": "markdown",
   "id": "4a2d9037",
   "metadata": {},
   "source": [
    "------"
   ]
  },
  {
   "cell_type": "markdown",
   "id": "5b6e64c3",
   "metadata": {},
   "source": [
    "### 4. Use a graph to demonstrate curve linear negative slope and curve linear positive slope."
   ]
  },
  {
   "cell_type": "markdown",
   "id": "5a5c6187",
   "metadata": {},
   "source": [
    "      ^\n",
    "      |\n",
    "    6 |           *      \n",
    "      |        *   \n",
    "    4 |      *\n",
    "      |    *\n",
    "    2 |  *  \n",
    "      |______________\n",
    "        0   2   4   6   > x\n",
    "\n",
    "In this case, the curve has a positive slope, indicating a positive relationship between the variables. As we move from left to right, the curve generally moves upward.\n",
    "\n",
    "      ^\n",
    "      |\n",
    "    6 |  * \n",
    "      |    *\n",
    "    4 |      *\n",
    "      |        *\n",
    "    2 |           *  \n",
    "      |______________\n",
    "        0   2   4   6   > x\n",
    "\n",
    "In this case, the curve has a negative slope, indicating a negative relationship between the variables. As we move from left to right, the curve generally moves downward."
   ]
  },
  {
   "cell_type": "markdown",
   "id": "f125abb4",
   "metadata": {},
   "source": [
    "--------"
   ]
  },
  {
   "cell_type": "markdown",
   "id": "31f29a33",
   "metadata": {},
   "source": [
    "### 5. Use a graph to show the maximum and low points of curves."
   ]
  },
  {
   "cell_type": "markdown",
   "id": "8c1bdb1c",
   "metadata": {},
   "source": [
    "To illustrate the maximum and minimum points of curves on a graph, we can use a simple example. Let's consider a quadratic function, which has a U-shaped curve known as a parabola.\n",
    "\n",
    "Suppose we have this quadratic function f(x) = x^2 - 4x + 3. To find the maximum and minimum points of this curve, we can find the vertex of the parabola.\n",
    "The vertex of a quadratic function in the form f(x) = ax^2 + bx + c can be determined using the formula x = -b / (2a)\n",
    "Suppose a=1, b=-4, c=3.\n",
    "\n",
    "x = -4/2*1 = 2.\n",
    "f(2) = 2^2 -4(2) + 3 = -1\n",
    "\n",
    "So vertex is (2,-1) which is either the min or max point. Since a = 1 which is the coeff of x^2, the parabola opens upwards hence (2, -1) is the min point. \n",
    "If coeff was negative the parabola would open downwards which means (2, -1) would be its max point."
   ]
  },
  {
   "cell_type": "markdown",
   "id": "2e9d2785",
   "metadata": {},
   "source": [
    "----------"
   ]
  },
  {
   "cell_type": "markdown",
   "id": "b7bcd8d1",
   "metadata": {},
   "source": [
    "### 6. Use the formulas for a and b to explain ordinary least squares.\n",
    "\n",
    "Ans: \n",
    "Consider a simple linear regression model:\n",
    "\n",
    "y = a + bx\n",
    "\n",
    "The objective of ordinary least squares is to find the best-fitting line that minimizes the sum of squared differences between the observed values of y (y_observed) and the predicted values of y (y_predicted) based on the given linear model. Mathematically, this is achieved by minimizing the sum of squared residuals (errors):\n",
    "\n",
    "Sum of squared residuals (SSR) = Σ(y_observed - y_predicted)^2\n",
    "\n",
    "To find the values of 'a' and 'b' that minimize the SSR, we need to differentiate it with respect to 'a' and 'b', and then set those derivatives to zero. This leads to the following formulas for 'a' and 'b':\n",
    "\n",
    "The formula for 'b' (the slope):\n",
    "b = Σ((x - x_mean) * (y - y_mean)) / Σ((x - x_mean)^2)\n",
    "Where:\n",
    "\n",
    "x_mean is the mean of the independent variable 'x', and\n",
    "y_mean is the mean of the dependent variable 'y'.\n",
    "The formula for 'a' (the intercept):\n",
    "a = y_mean - b * x_mean\n",
    "\n",
    "Once we calculate the values of 'a' and 'b' using these formulas, we can plug them back into the original linear regression equation (y = a + bx) to obtain the equation of the best-fitting line."
   ]
  },
  {
   "cell_type": "markdown",
   "id": "3195c6a4",
   "metadata": {},
   "source": [
    "----------"
   ]
  },
  {
   "cell_type": "markdown",
   "id": "3b379671",
   "metadata": {},
   "source": [
    "### 7. Provide a step-by-step explanation of the OLS algorithm.\n",
    "\n",
    "Ans: \n",
    "\n",
    "1. Formulate the Linear Regression Model\n",
    "\n",
    "Based on your data exploration, formulate the simple linear regression model:\n",
    "\n",
    "y = a + bx\n",
    "\n",
    "y is dependent variable, a is the intercept and b is the slope.\n",
    "\n",
    "2. Calculate Means\n",
    "\n",
    "Calculate the means of the independent variable (x_mean) and the dependent variable (y_mean) from the dataset.\n",
    "\n",
    "3. Calculate 'b' (the slope)\n",
    "\n",
    "Using the formula for 'b':\n",
    "\n",
    "b = Σ((x - x_mean) * (y - y_mean)) / Σ((x - x_mean)^2)\n",
    "\n",
    "For each data point in the dataset, subtract x_mean from 'x' and y_mean from 'y'. Multiply these differences and sum them up. Then, calculate the squared differences between each 'x' and x_mean, and sum them up. Finally, divide the first sum by the second sum to get the value of 'b'.\n",
    "\n",
    "Calculate 'a' (the intercept)\n",
    "Using the formula for 'a':\n",
    "\n",
    "a = y_mean - b * x_mean\n",
    "\n",
    "4. Formulate the Regression Line\n",
    "\n",
    "With the values of 'a' and 'b' calculated, you can now write the equation of the regression line:\n",
    "\n",
    "y_predicted = a + bx\n",
    "\n",
    "This equation represents the best-fitting line through the dataset based on the OLS method."
   ]
  },
  {
   "cell_type": "markdown",
   "id": "e0f7146f",
   "metadata": {},
   "source": [
    "---------"
   ]
  },
  {
   "cell_type": "markdown",
   "id": "0aada201",
   "metadata": {},
   "source": [
    "### 8. What is the regression&#39;s standard error? To represent the same, make a graph.\n",
    "\n"
   ]
  },
  {
   "cell_type": "markdown",
   "id": "d098a97b",
   "metadata": {},
   "source": [
    "The regression's standard error, also known as the standard error of the regression or standard error of the estimate, measures the accuracy of the predictions made by the regression model.\n",
    "It is the standard deviation of the residuals (the differences between the observed and predicted values of the dependent variable) and provides an indication of how much the actual values are likely to deviate from the predicted values."
   ]
  },
  {
   "cell_type": "code",
   "execution_count": 2,
   "id": "58ef8c28",
   "metadata": {},
   "outputs": [
    {
     "data": {
      "image/png": "[encoded data removed]",
      "text/plain": [
       "<Figure size 576x432 with 1 Axes>"
      ]
     },
     "metadata": {
      "needs_background": "light"
     },
     "output_type": "display_data"
    }
   ],
   "source": [
    "import numpy as np\n",
    "import matplotlib.pyplot as plt\n",
    "\n",
    "# Sample data\n",
    "x = np.array([1, 2, 3, 4, 5, 6])\n",
    "y = np.array([3, 5, 4, 6, 7, 9])\n",
    "\n",
    "# Perform linear regression\n",
    "coefficients = np.polyfit(x, y, 1)  # Fit a first-degree polynomial (linear regression)\n",
    "a, b = coefficients\n",
    "\n",
    "# Predicted values from the regression line\n",
    "y_predicted = a * x + b\n",
    "\n",
    "# Calculate residuals\n",
    "residuals = y - y_predicted\n",
    "\n",
    "# Calculate the standard error of the regression\n",
    "SE = np.sqrt(np.sum(residuals**2) / (len(x) - 2))\n",
    "\n",
    "# Create the plot\n",
    "plt.figure(figsize=(8, 6))\n",
    "plt.scatter(x, y, label='Data', color='blue')\n",
    "plt.errorbar(x, y, yerr=SE, linestyle='None', marker='o', color='blue', alpha=0.5, capsize=5, label='Error Bars')\n",
    "plt.plot(x, y_predicted, color='red', label='Regression Line')\n",
    "plt.xlabel('Independent Variable (x)')\n",
    "plt.ylabel('Dependent Variable (y)')\n",
    "plt.title('Graph showing regression line')\n",
    "plt.legend()\n",
    "plt.grid(True)\n",
    "plt.show()"
   ]
  },
  {
   "cell_type": "markdown",
   "id": "0414fe1a",
   "metadata": {},
   "source": [
    "----------"
   ]
  },
  {
   "cell_type": "markdown",
   "id": "cc1bbeaa",
   "metadata": {},
   "source": [
    "### 9. Provide an example of multiple linear regression.\n",
    "\n"
   ]
  },
  {
   "cell_type": "code",
   "execution_count": 4,
   "id": "fdb539de",
   "metadata": {},
   "outputs": [
    {
     "name": "stderr",
     "output_type": "stream",
     "text": [
      "C:\\Users\\61421\\anaconda3\\lib\\site-packages\\statsmodels\\stats\\stattools.py:74: ValueWarning: omni_normtest is not valid with less than 8 observations; 5 samples were given.\n",
      "  warn(\"omni_normtest is not valid with less than 8 observations; %i \"\n"
     ]
    },
    {
     "name": "stdout",
     "output_type": "stream",
     "text": [
      "                            OLS Regression Results                            \n",
      "==============================================================================\n",
      "Dep. Variable:                      y   R-squared:                       0.970\n",
      "Model:                            OLS   Adj. R-squared:                  0.960\n",
      "Method:                 Least Squares   F-statistic:                     96.43\n",
      "Date:                Fri, 21 Jul 2023   Prob (F-statistic):            0.00224\n",
      "Time:                        14:49:31   Log-Likelihood:                -2.1794\n",
      "No. Observations:                   5   AIC:                             8.359\n",
      "Df Residuals:                       3   BIC:                             7.578\n",
      "Df Model:                           1                                         \n",
      "Covariance Type:            nonrobust                                         \n",
      "==============================================================================\n",
      "                 coef    std err          t      P>|t|      [0.025      0.975]\n",
      "------------------------------------------------------------------------------\n",
      "const          0.7053      0.011     62.030      0.000       0.669       0.741\n",
      "x1             2.8658      0.084     34.261      0.000       2.600       3.132\n",
      "x2             1.3658      0.084     16.328      0.000       1.100       1.632\n",
      "==============================================================================\n",
      "Omnibus:                          nan   Durbin-Watson:                   1.429\n",
      "Prob(Omnibus):                    nan   Jarque-Bera (JB):                0.375\n",
      "Skew:                           0.344   Prob(JB):                        0.829\n",
      "Kurtosis:                       1.847   Cond. No.                     4.20e+16\n",
      "==============================================================================\n",
      "\n",
      "Notes:\n",
      "[1] Standard Errors assume that the covariance matrix of the errors is correctly specified.\n",
      "[2] The smallest eigenvalue is 5.39e-32. This might indicate that there are\n",
      "strong multicollinearity problems or that the design matrix is singular.\n",
      "Coefficients:\n",
      "const    0.705263\n",
      "x1       2.865789\n",
      "x2       1.365789\n",
      "dtype: float64\n",
      "R-squared: 0.9698275862068965\n"
     ]
    },
    {
     "data": {
      "image/png": "[encoded data removed]",
      "text/plain": [
       "<Figure size 576x432 with 1 Axes>"
      ]
     },
     "metadata": {
      "needs_background": "light"
     },
     "output_type": "display_data"
    }
   ],
   "source": [
    "import numpy as np\n",
    "import pandas as pd\n",
    "import statsmodels.api as sm\n",
    "import warnings\n",
    "import matplotlib.pyplot as plt\n",
    "\n",
    "# Sample data\n",
    "data = {\n",
    "    'x1': [1, 2, 3, 4, 5],\n",
    "    'x2': [5, 4, 3, 2, 1],\n",
    "    'y': [10, 12, 14, 15, 16]\n",
    "}\n",
    "\n",
    "# Create a DataFrame\n",
    "df = pd.DataFrame(data)\n",
    "\n",
    "# Prepare the data for multiple linear regression\n",
    "X = df[['x1', 'x2']]\n",
    "y = df['y']\n",
    "\n",
    "# Add a constant term for the intercept in the model\n",
    "X = sm.add_constant(X)\n",
    "\n",
    "# Fit the multiple linear regression model\n",
    "model = sm.OLS(y, X).fit()\n",
    "\n",
    "# Print the model summary\n",
    "print(model.summary())\n",
    "\n",
    "# Get the coefficients (including the intercept) and R-squared value\n",
    "coefficients = model.params\n",
    "r_squared = model.rsquared\n",
    "\n",
    "# Print the coefficients and R-squared value\n",
    "print(\"Coefficients:\")\n",
    "print(coefficients)\n",
    "print(\"R-squared:\", r_squared)\n",
    "\n",
    "# Make predictions using the model\n",
    "y_pred = model.predict(X)\n",
    "\n",
    "# Create a scatter plot of the actual vs. predicted values\n",
    "plt.figure(figsize=(8, 6))\n",
    "plt.scatter(y, y_pred, color='blue')\n",
    "plt.plot([min(y), max(y)], [min(y), max(y)], color='red', linestyle='--')\n",
    "plt.xlabel('Actual y')\n",
    "plt.ylabel('Predicted y')\n",
    "plt.title('Actual vs. Predicted Values')\n",
    "plt.grid(True)\n",
    "plt.show()\n"
   ]
  },
  {
   "cell_type": "markdown",
   "id": "c896d24d",
   "metadata": {},
   "source": [
    "-------"
   ]
  },
  {
   "cell_type": "markdown",
   "id": "cca987eb",
   "metadata": {},
   "source": [
    "### 10. Describe the regression analysis assumptions and the BLUE principle."
   ]
  },
  {
   "cell_type": "markdown",
   "id": "3e8b4f39",
   "metadata": {},
   "source": [
    "The BLUE principle is an important property of the Ordinary Least Squares (OLS) estimator used in linear regression. BLUE stands for Best Linear Unbiased Estimator. It states that under certain assumptions, the OLS estimator of the regression coefficients is the best among all linear and unbiased estimators."
   ]
  },
  {
   "cell_type": "markdown",
   "id": "09e4e8ca",
   "metadata": {},
   "source": [
    "----------"
   ]
  },
  {
   "cell_type": "markdown",
   "id": "71e54e32",
   "metadata": {},
   "source": [
    "### 11. Describe two major issues with regression analysis.\n",
    "\n"
   ]
  },
  {
   "cell_type": "markdown",
   "id": "ab488bcd",
   "metadata": {},
   "source": [
    "1. Multicollinearity occurs when two or more independent variables in the regression model are highly correlated. This situation poses a problem because it becomes difficult to distinguish the individual effects of these correlated variables on the dependent variable. \n",
    "2. Heteroscedasticity refers to the situation where the variance of the residuals (the differences between the observed and predicted values) is not constant across all levels of the independent variables. "
   ]
  },
  {
   "cell_type": "markdown",
   "id": "9e2e0ff9",
   "metadata": {},
   "source": [
    "-----------"
   ]
  },
  {
   "cell_type": "markdown",
   "id": "740e1089",
   "metadata": {},
   "source": [
    "### 12. How can the linear regression model&#39;s accuracy be improved?\n",
    "\n"
   ]
  },
  {
   "cell_type": "markdown",
   "id": "f157e102",
   "metadata": {},
   "source": [
    "1. Choose relevant and informative independent variables (features) that have a strong relationship with the dependent variable. Remove irrelevant or redundant variables that do not contribute much to the prediction.\n",
    "2. Clean and preprocess the data to handle missing values, outliers, and data inconsistencies. Standardize or normalize numerical features to ensure all variables are on a similar scale.\n",
    "3. Identify and handle outliers that can significantly influence the regression model by either removing them or using robust regression techniques."
   ]
  },
  {
   "cell_type": "markdown",
   "id": "7f30b0a8",
   "metadata": {},
   "source": [
    "----------"
   ]
  },
  {
   "cell_type": "markdown",
   "id": "0c47e05b",
   "metadata": {},
   "source": [
    "### 13. Using an example, describe the polynomial regression model in detail.\n",
    "\n"
   ]
  },
  {
   "cell_type": "markdown",
   "id": "9651d0f1",
   "metadata": {},
   "source": [
    "Polynomial regression is a type of regression analysis that models the relationship between the dependent variable and the independent variable(s) using a polynomial equation. "
   ]
  },
  {
   "cell_type": "code",
   "execution_count": 7,
   "id": "8de209eb",
   "metadata": {},
   "outputs": [
    {
     "data": {
      "image/png": "[encoded data removed]",
      "text/plain": [
       "<Figure size 432x288 with 1 Axes>"
      ]
     },
     "metadata": {
      "needs_background": "light"
     },
     "output_type": "display_data"
    },
    {
     "name": "stdout",
     "output_type": "stream",
     "text": [
      "Intercept: 17.0\n",
      "Coefficients: [0.         2.89285714 0.44642857]\n"
     ]
    },
    {
     "data": {
      "image/png": "[encoded data removed]",
      "text/plain": [
       "<Figure size 432x288 with 1 Axes>"
      ]
     },
     "metadata": {
      "needs_background": "light"
     },
     "output_type": "display_data"
    }
   ],
   "source": [
    "import matplotlib.pyplot as plt\n",
    "import numpy as np\n",
    "from sklearn.linear_model import LinearRegression\n",
    "from sklearn.preprocessing import PolynomialFeatures\n",
    "\n",
    "x = [2, 4, 6, 8, 10]\n",
    "y = [25, 35, 50, 70, 90]\n",
    "\n",
    "plt.scatter(x, y)\n",
    "plt.xlabel('Sugar Content')\n",
    "plt.ylabel('Temperature')\n",
    "plt.title('Scatter Plot of Sugar Content vs. Temperature')\n",
    "plt.show()\n",
    "\n",
    "# Reshape the data to be in a 2D array format\n",
    "x = np.array(x).reshape(-1, 1)\n",
    "y = np.array(y)\n",
    "\n",
    "# Create polynomial features (degree=2)\n",
    "poly_features = PolynomialFeatures(degree=2)\n",
    "x_poly = poly_features.fit_transform(x)\n",
    "\n",
    "# Fit the polynomial regression model\n",
    "model = LinearRegression()\n",
    "model.fit(x_poly, y)\n",
    "\n",
    "# Get the coefficients (intercept, coefficient of x, coefficient of x^2)\n",
    "intercept = model.intercept_\n",
    "coefficients = model.coef_\n",
    "\n",
    "print(\"Intercept:\", intercept)\n",
    "print(\"Coefficients:\", coefficients)\n",
    "\n",
    "# Predict temperature using the model\n",
    "x_new = np.array([np.arange(1, 11)]).T\n",
    "x_new_poly = poly_features.transform(x_new)\n",
    "y_pred = model.predict(x_new_poly)\n",
    "\n",
    "# Plot the polynomial curve\n",
    "plt.scatter(x, y, label='Data')\n",
    "plt.plot(x_new, y_pred, color='red', label='Polynomial Regression Curve')\n",
    "plt.xlabel('Sugar Content')\n",
    "plt.ylabel('Temperature')\n",
    "plt.title('Polynomial Regression - Sugar Content vs. Temperature')\n",
    "plt.legend()\n",
    "plt.grid(True)\n",
    "plt.show()\n"
   ]
  },
  {
   "cell_type": "markdown",
   "id": "29ad948b",
   "metadata": {},
   "source": [
    "-----------"
   ]
  },
  {
   "cell_type": "markdown",
   "id": "74acde7e",
   "metadata": {},
   "source": [
    "### 14. Provide a detailed explanation of logistic regression."
   ]
  },
  {
   "cell_type": "markdown",
   "id": "e8fc22cf",
   "metadata": {},
   "source": [
    "Logistic regression is a type of regression analysis used for binary classification tasks, where the dependent variable (target variable) is categorical and has only two possible outcomes, usually represented as 0 and 1.\n",
    "\n",
    "In logistic regression, we need to define a decision boundary that separates the two classes. This boundary is where the probability of the positive class equals 0.5. For example, if hθ(x) ≥ 0.5, the model predicts the positive class (1), and if hθ(x) < 0.5, it predicts the negative class (0).\n",
    "\n",
    "To evaluate the performance of the logistic regression model, we use metrics such as accuracy, precision, recall, F1-score, and the receiver operating characteristic (ROC) curve. These metrics provide insights into how well the model classifies instances correctly."
   ]
  },
  {
   "cell_type": "markdown",
   "id": "9d021c8e",
   "metadata": {},
   "source": [
    "-----------"
   ]
  },
  {
   "cell_type": "markdown",
   "id": "6dd04820",
   "metadata": {},
   "source": [
    "### 15. What are the logistic regression assumptions?"
   ]
  },
  {
   "cell_type": "markdown",
   "id": "7a906438",
   "metadata": {},
   "source": [
    "1. The dependent variable (target variable) should be binary, meaning it has only two possible outcomes (e.g., 0 and 1, or \"yes\" and \"no\"). Logistic regression is specifically designed for binary classification tasks.\n",
    "2. The logit transformation of the probability (log-odds) of the dependent variable being 1 should have a linear relationship with the independent variables. The logit function is the natural logarithm of the odds ratio (log(p/(1-p))), where 'p' is the probability of the event."
   ]
  },
  {
   "cell_type": "markdown",
   "id": "b23751b5",
   "metadata": {},
   "source": [
    "--------------"
   ]
  },
  {
   "cell_type": "markdown",
   "id": "0ff5f447",
   "metadata": {},
   "source": [
    "### 16. Go through the details of maximum likelihood estimation."
   ]
  },
  {
   "cell_type": "markdown",
   "id": "989086c6",
   "metadata": {},
   "source": [
    "Maximum Likelihood Estimation (MLE) is a statistical method used to estimate the parameters of a statistical model by finding the values that maximize the likelihood function. \n",
    "\n",
    "The likelihood function (L) measures the probability of observing the data given the model and the parameter values. For each data point (xi) in the dataset, the likelihood is calculated based on the probability density function (PDF) or probability mass function (PMF) of the model.\n",
    "\n",
    "L(θ; x1, x2, ..., xn) = f(x1; θ) * f(x2; θ) * ... * f(xn; θ)\n",
    "\n",
    "L(θ; x1, x2, ..., xn) is the likelihood function\n",
    "θ is the parameter we want to estimate.\n",
    "x1, x2... are the observed points in the dataset.\n",
    "f(x1; θ) is the probability density function (PDF) or probability mass function (PMF) "
   ]
  }
 ],
 "metadata": {
  "kernelspec": {
   "display_name": "Python 3 (ipykernel)",
   "language": "python",
   "name": "python3"
  },
  "language_info": {
   "codemirror_mode": {
    "name": "ipython",
    "version": 3
   },
   "file_extension": ".py",
   "mimetype": "text/x-python",
   "name": "python",
   "nbconvert_exporter": "python",
   "pygments_lexer": "ipython3",
   "version": "3.9.12"
  }
 },
 "nbformat": 4,
 "nbformat_minor": 5
}

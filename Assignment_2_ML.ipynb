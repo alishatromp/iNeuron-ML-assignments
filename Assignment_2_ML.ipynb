{
 "cells": [
  {
   "cell_type": "markdown",
   "id": "65f95bc9",
   "metadata": {},
   "source": [
    "1. What is the concept of human learning? Please give two examples."
   ]
  },
  {
   "cell_type": "markdown",
   "id": "be9e6b32",
   "metadata": {},
   "source": [
    "Human learning is acquiring knowledge through experience either directly or indirectly through others. The major types of human learning are\n",
    "- Learning through association - Classical conditioning\n",
    "- Learning through consequences - Operant conditioning\n",
    "- Learning through observation - Modelling/Observational Learning."
   ]
  },
  {
   "cell_type": "markdown",
   "id": "3a844d36",
   "metadata": {},
   "source": [
    "-------------"
   ]
  },
  {
   "cell_type": "markdown",
   "id": "7d46b6bc",
   "metadata": {},
   "source": [
    "2. What different forms of human learning are there? Are there any machine learning equivalents?"
   ]
  },
  {
   "cell_type": "markdown",
   "id": "4d3e8d32",
   "metadata": {},
   "source": [
    "The different forms of human learning are \n",
    "1. Classical conditioning\n",
    "2. Operant conditioning\n",
    "3. Modelling/Observant learning\n",
    "\n",
    "ML offers:\n",
    "AI learning theories such as ML with supervised and unsupervised ML.\n",
    "We use different algorithms for ML to help us understand patterns and trends to predict future models."
   ]
  },
  {
   "cell_type": "markdown",
   "id": "4e6905d0",
   "metadata": {},
   "source": [
    "-----------"
   ]
  },
  {
   "cell_type": "markdown",
   "id": "a5cc35a5",
   "metadata": {},
   "source": [
    "3. What is machine learning, and how does it work? What are the key responsibilities of machine learning?"
   ]
  },
  {
   "cell_type": "markdown",
   "id": "71d0beea",
   "metadata": {},
   "source": [
    "Machine learning is a field of artificial intelligence (AI), which is broadly defined as the capability of a machine to imitate intelligent human behaviour. Artificial intelligence systems are used to perform complex tasks in a way that is similar to how humans solve problems.\n",
    "Machine learning algorithms use historical data as input to predict outcomes for the future.\n",
    "\n",
    "Key responsibilities of ML engineers are:\n",
    "1. Study and transform data science prototypes.\n",
    "2. Design machine learning systems.\n",
    "3. Research and implement appropriate ML algorithms and tools.\n",
    "4. Develop machine learning applications according to requirements.\n",
    "5. Select appropriate datasets and data representation methods.\n",
    "6. Run machine learning tests and experiments."
   ]
  },
  {
   "cell_type": "markdown",
   "id": "521da717",
   "metadata": {},
   "source": [
    "-----------"
   ]
  },
  {
   "cell_type": "markdown",
   "id": "df769505",
   "metadata": {},
   "source": [
    "4. Define the terms &quot;penalty&quot; and &quot;reward&quot; in the context of reinforcement learning."
   ]
  },
  {
   "cell_type": "markdown",
   "id": "bdff17b3",
   "metadata": {},
   "source": [
    "Reinforcement learning is all about gamifying the learning process. This type of machine learning uses a reward-penalty method to teach an AI system. \n",
    "- If it makes the right move, it gets rewarded. \n",
    "- If it makes a mistake, it receives a penalty.\n",
    "\n",
    "The agent learns without human intervention trying to maximize its reward and minimize its penalty."
   ]
  },
  {
   "cell_type": "markdown",
   "id": "4bdb2b46",
   "metadata": {},
   "source": [
    "-----------"
   ]
  },
  {
   "cell_type": "markdown",
   "id": "ac2f70d7",
   "metadata": {},
   "source": [
    "5. Explain the term &quot;learning as a search&quot;?"
   ]
  },
  {
   "cell_type": "markdown",
   "id": "1f0314c6",
   "metadata": {},
   "source": [
    "Learning can be viewed as a search through the space of all sentences in a concept description language for a sentence that best describes the data. Alternatively, it can be viewed as a search through all hypotheses in a hypothesis space."
   ]
  },
  {
   "cell_type": "markdown",
   "id": "c48365c7",
   "metadata": {},
   "source": [
    "------------"
   ]
  },
  {
   "cell_type": "markdown",
   "id": "a0702163",
   "metadata": {},
   "source": [
    "6. What are the various goals of machine learning? What is the relationship between these and human learning?"
   ]
  },
  {
   "cell_type": "markdown",
   "id": "ddc0b84a",
   "metadata": {},
   "source": [
    "The goal derives from the name itself. The goal is for the machine to learn in the best possible manner. It can learn this from humans and how they learn. The learning is a continuous process based on input and feedback."
   ]
  },
  {
   "cell_type": "markdown",
   "id": "b754cee9",
   "metadata": {},
   "source": [
    "----------"
   ]
  },
  {
   "cell_type": "markdown",
   "id": "f6596b45",
   "metadata": {},
   "source": [
    "7. Illustrate the various elements of machine learning using a real-life illustration."
   ]
  },
  {
   "cell_type": "markdown",
   "id": "36adc214",
   "metadata": {},
   "source": [
    "The various elements are:\n",
    "- Data\n",
    "- Task\n",
    "- Model\n",
    "- Loss Function\n",
    "- Learning Algorithm\n",
    "- Evaluation\n",
    "\n",
    "We have a task of predicting house prices. We have data for the past house prices, we model it using a regression algorithm and then train/test our model to predict the future."
   ]
  },
  {
   "cell_type": "markdown",
   "id": "56b982d3",
   "metadata": {},
   "source": [
    "-----------"
   ]
  },
  {
   "cell_type": "markdown",
   "id": "a3ac552c",
   "metadata": {},
   "source": [
    "8. Provide an example of the abstraction method."
   ]
  },
  {
   "cell_type": "markdown",
   "id": "8f0f3b1c",
   "metadata": {},
   "source": [
    "Abstraction: It involves the translation of data into broader representations. It is primarily supported at modules."
   ]
  },
  {
   "cell_type": "markdown",
   "id": "12458b3b",
   "metadata": {},
   "source": [
    "------------"
   ]
  },
  {
   "cell_type": "markdown",
   "id": "3dd3a362",
   "metadata": {},
   "source": [
    "9. What is the concept of generalization? What function does it play in the machine learning process? "
   ]
  },
  {
   "cell_type": "markdown",
   "id": "d6a257a4",
   "metadata": {},
   "source": [
    "Generalization: It uses abstracted data to form a basis for action."
   ]
  },
  {
   "cell_type": "markdown",
   "id": "4359f8ff",
   "metadata": {},
   "source": [
    "-----------"
   ]
  },
  {
   "cell_type": "markdown",
   "id": "5d1d2ce9",
   "metadata": {},
   "source": [
    "10. What is classification, exactly? What are the main distinctions between classification and regression?"
   ]
  },
  {
   "cell_type": "markdown",
   "id": "4ad67208",
   "metadata": {},
   "source": [
    "In Machine Learning, classification refers to a predictive modeling problem where a class label is predicted for a given example of input data.\n",
    "- Classification is the task of predicting a discrete class label whereas Regression is the task of predicting a continuous quantity."
   ]
  },
  {
   "cell_type": "markdown",
   "id": "3bae66dd",
   "metadata": {},
   "source": [
    "---------------"
   ]
  },
  {
   "cell_type": "markdown",
   "id": "38ba2568",
   "metadata": {},
   "source": [
    "11. What is regression, and how does it work? Give an example of a real-world problem that was solved using regression."
   ]
  },
  {
   "cell_type": "markdown",
   "id": "b034ac99",
   "metadata": {},
   "source": [
    "Regression is a supervised ML approach used to predict data for a continuous values. The goal is to plot a best fit line or a curve between the data.\n",
    "- The three metrics used to evaluate the trained regression model are variance, bias and error. \n",
    "- For e.g. lets look at diamond price prediction. The dependent value is diamon price and the features are diamond quality, cut, size. We predict that the better the quality, size and cut, the better the price."
   ]
  },
  {
   "cell_type": "markdown",
   "id": "6d848ca6",
   "metadata": {},
   "source": [
    "--------------"
   ]
  },
  {
   "cell_type": "markdown",
   "id": "eb2b4f2d",
   "metadata": {},
   "source": [
    "12. Describe the clustering mechanism in detail."
   ]
  },
  {
   "cell_type": "markdown",
   "id": "da72c7a7",
   "metadata": {},
   "source": [
    "- Grouping unlabeled examples is called clustering. \n",
    "- As the examples are unlabeled, clustering relies on unsupervised machine learning."
   ]
  },
  {
   "cell_type": "markdown",
   "id": "3ede7d77",
   "metadata": {},
   "source": [
    "-----------"
   ]
  },
  {
   "cell_type": "markdown",
   "id": "9980e49c",
   "metadata": {},
   "source": [
    "13. Make brief observations on two of the following topics:\n",
    "\n",
    "- i. Machine learning algorithms are used\n",
    "- ii. Studying under supervision\n",
    "- iii. Studying without supervision\n",
    "\n",
    "- iv. Reinforcement learning is a form of learning based on positive reinforcement."
   ]
  },
  {
   "cell_type": "markdown",
   "id": "3c4d7840",
   "metadata": {},
   "source": [
    "1. Studying under supervision or Supervised ML - is a subcategory of machine learning and artificial intelligence. It is defined by its use of labeled datasets to train algorithms that to classify data or predict outcomes accurately.\n",
    "\n",
    "2. Studying without supervision or Unsupervised learning, also known as unsupervised machine learning, uses machine learning algorithms to analyze and cluster unlabeled datasets. These algorithms discover hidden patterns or data groupings without the need for human intervention."
   ]
  }
 ],
 "metadata": {
  "kernelspec": {
   "display_name": "Python 3 (ipykernel)",
   "language": "python",
   "name": "python3"
  },
  "language_info": {
   "codemirror_mode": {
    "name": "ipython",
    "version": 3
   },
   "file_extension": ".py",
   "mimetype": "text/x-python",
   "name": "python",
   "nbconvert_exporter": "python",
   "pygments_lexer": "ipython3",
   "version": "3.9.12"
  }
 },
 "nbformat": 4,
 "nbformat_minor": 5
}

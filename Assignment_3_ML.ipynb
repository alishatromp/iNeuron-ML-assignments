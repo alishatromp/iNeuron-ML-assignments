{
 "cells": [
  {
   "cell_type": "markdown",
   "id": "fc02f96e",
   "metadata": {},
   "source": [
    "### 1. Explain the term machine learning, and how does it work? Explain two machine learning applications in the business world. What are some of the ethical concerns that machine learning applications could raise?"
   ]
  },
  {
   "cell_type": "markdown",
   "id": "ed4e0cfd",
   "metadata": {},
   "source": [
    "### ML is a sub field of AI that teaches computers to think like humans. Two business applications would be:\n",
    "### 1. Fraud detection - Machines detect fraud activities.\n",
    "### 2. Customer retention - learning from customer experience and why they leave services would give you better understanding of how to retain customers.\n",
    "\n",
    "### Ethical concerns:\n",
    "- Privacy and surveillance\n",
    "- Bias and discrimination\n",
    "- Role of human judgement"
   ]
  },
  {
   "cell_type": "markdown",
   "id": "46b1030b",
   "metadata": {},
   "source": [
    "-------------"
   ]
  },
  {
   "cell_type": "markdown",
   "id": "93bdfb8c",
   "metadata": {},
   "source": [
    "### 2. Describe the process of human learning:\n",
    "i. Under the supervision of experts\n",
    "\n",
    "ii. With the assistance of experts in an indirect manner\n",
    "\n",
    "iii. Self-education"
   ]
  },
  {
   "cell_type": "markdown",
   "id": "5f69d280",
   "metadata": {},
   "source": [
    "### i. Under the supervision of experts"
   ]
  },
  {
   "cell_type": "markdown",
   "id": "62236b87",
   "metadata": {},
   "source": [
    "### Human-guided machine learning is a process whereby subject matter experts accelerate the learning process by teaching the technology in real-time. \n",
    "### For example, if the machine learning model comes across a piece of data it is uncertain about, a human can be asked to weigh in and give feedback. The model then learns from this input, and uses it to make a more accurate prediction the next time. Human-guided machine learning works from the bottom up by first using algorithms to conduct the heavy lifting of identifying relationships within the data, and engaging humans when necessary for training or validation. This means that, inevitably, the amount of time a human needs to spend performing a specific task will decrease as the machine learning accuracy increases."
   ]
  },
  {
   "cell_type": "markdown",
   "id": "60be49f7",
   "metadata": {},
   "source": [
    "### ii. With the assistance of experts in an indirect manner"
   ]
  },
  {
   "cell_type": "markdown",
   "id": "0b1e02ad",
   "metadata": {},
   "source": [
    "### An algorithm learning from a training dataset can be thought of as an example of learning through the assistance of experts indirectly. The algorithm keeps making predictions and once reaches an acceptable level of performance it then stops. This leve of learning is also a form of Operant conditioning. "
   ]
  },
  {
   "cell_type": "markdown",
   "id": "e138feff",
   "metadata": {},
   "source": [
    "### iii. Self-education"
   ]
  },
  {
   "cell_type": "markdown",
   "id": "563b00bc",
   "metadata": {},
   "source": [
    "### Self education is the ability to self learn. This comes from data input, recognizing patterns and becoming more intelligent over time (can be AI or programmatically based)."
   ]
  },
  {
   "cell_type": "markdown",
   "id": "efb07442",
   "metadata": {},
   "source": [
    "------------"
   ]
  },
  {
   "cell_type": "markdown",
   "id": "9bfc4c3d",
   "metadata": {},
   "source": [
    "### 3. Provide a few examples of various types of machine learning."
   ]
  },
  {
   "cell_type": "markdown",
   "id": "d7c06051",
   "metadata": {},
   "source": [
    "- Example of Supervised Learning is text classification problems. In this set of problems, the goal is to predict the class label of a given piece of text such as a tweet, image etc.\n",
    "\n",
    "- Example of Unsupervised Learning : Fraud detection, Malware detection, Anomaly detection, Clustering Analysis.\n",
    "\n",
    "- Example of Reinforcement Learning : Applications in self-driving cars, Industry automation, AI powered bots at home such as Siri, Alexa etc."
   ]
  },
  {
   "cell_type": "markdown",
   "id": "8882a3b1",
   "metadata": {},
   "source": [
    "--------------"
   ]
  },
  {
   "cell_type": "markdown",
   "id": "d37d33ef",
   "metadata": {},
   "source": [
    "### 4. Examine the various forms of machine learning."
   ]
  },
  {
   "cell_type": "markdown",
   "id": "7fe21601",
   "metadata": {},
   "source": [
    "### 1. Supervised ML\n",
    "### 2. Unsupervised ML\n",
    "### 3. Reinforcement training."
   ]
  },
  {
   "cell_type": "markdown",
   "id": "699b7823",
   "metadata": {},
   "source": [
    "---------------"
   ]
  },
  {
   "cell_type": "markdown",
   "id": "8b9211bf",
   "metadata": {},
   "source": [
    "### 5. Can you explain what a well-posed learning problem is? Explain the main characteristics that must be present to identify a learning problem properly."
   ]
  },
  {
   "cell_type": "markdown",
   "id": "9e16d64a",
   "metadata": {},
   "source": [
    "### Well Posed Learning Problem – A computer program is said to learn from experience E in context to some task T and some performance measure P, if its performance on T, as was measured by P, upgrades with experience E. \n",
    "\n",
    "### Any problem can be segregated as well-posed learning problem if it has three traits – \n",
    "\n",
    "1. Task\n",
    "2. Performance Measure \n",
    "3. Experience \n",
    "- An example is to better filter emails as spam or not "
   ]
  },
  {
   "cell_type": "markdown",
   "id": "cd10f80a",
   "metadata": {},
   "source": [
    "-----------"
   ]
  },
  {
   "cell_type": "markdown",
   "id": "11cc00c8",
   "metadata": {},
   "source": [
    "### 6. Is machine learning capable of solving all problems? Give a detailed explanation of your answer."
   ]
  },
  {
   "cell_type": "markdown",
   "id": "0331d727",
   "metadata": {},
   "source": [
    "### No, machine learning is not able to solve all problems. While machine learning is a powerful tool for solving a wide range of problems, it has its limitations and is not a universal solution.\n",
    "\n",
    "### Machine learning algorithms are designed to learn patterns and make predictions based on training data. They excel in tasks such as image recognition, natural language processing, speech recognition, recommendation systems, and many others. However, there are several challenges and limitations associated with machine learning:\n",
    "\n",
    "1. Data availability: Machine learning algorithms require large amounts of high-quality data to learn and make accurate predictions. If the necessary data is not available or is of poor quality, the performance of the model can be compromised.\n",
    "\n",
    "2. Data bias: Machine learning models can be influenced by biases present in the training data. If the data used for training is biased or contains unfair or discriminatory patterns, the model may perpetuate those biases in its predictions.\n",
    "\n",
    "3. Lack of interpretability: Many machine learning algorithms are considered black boxes, meaning they can produce accurate predictions but lack transparency in explaining how they arrived at those predictions. This lack of interpretability can be problematic in certain domains where explainability is crucial, such as healthcare or finance.\n",
    "\n",
    "4. Generalization limitations: Machine learning models are prone to overfitting, where they become too specialized to the training data and perform poorly on new, unseen data. Ensuring that a model can generalize well to new scenarios is a constant challenge.\n",
    "\n",
    "5. Problem complexity: Some problems are inherently complex and may not be easily solvable using traditional machine learning techniques. For example, certain types of reasoning, understanding context, or long-term planning may require more advanced approaches or combinations of techniques.\n",
    "\n",
    "6. Ethical considerations: Machine learning models can have unintended consequences or be used in ways that raise ethical concerns. Issues such as privacy, security, fairness, and accountability need to be carefully considered and addressed when applying machine learning solutions.\n",
    "\n",
    "- In summary, while machine learning is a powerful and versatile tool, it is not a one-size-fits-all solution. The choice of problem-solving approach depends on the nature of the problem, the availability and quality of data, and the ethical and interpretability considerations involved."
   ]
  },
  {
   "cell_type": "markdown",
   "id": "4bc333e0",
   "metadata": {},
   "source": [
    "------------"
   ]
  },
  {
   "cell_type": "markdown",
   "id": "46b8b174",
   "metadata": {},
   "source": [
    "### 7. What are the various methods and technologies for solving machine learning problems? Any two of them should be defined in detail."
   ]
  },
  {
   "cell_type": "markdown",
   "id": "7eff1927",
   "metadata": {},
   "source": [
    "### In addition to supervised, unsupervised and reinforcement learning explained before there are many other methods.\n",
    "- Deep Learning: Deep learning is a subset of machine learning that focuses on using artificial neural networks with multiple layers to learn hierarchical representations of data. Deep learning has achieved significant success in various domains, including computer vision, natural language processing, and speech recognition.\n",
    "\n",
    "- Transfer Learning: Transfer learning involves leveraging knowledge learned from one task or domain to improve performance on a different but related task or domain. It allows models to benefit from pre-trained models or knowledge gained from large-scale datasets, even when the target task has limited data.\n",
    "\n",
    "To facilitate the application of these methods we use packages such as Scikit-learn, Pandas, Numpy etc that have ML algorithms such as Linear regression, RandomForest Classifier, Decision Tree, clustering, etc that makes it feasible to apply these to our datasets."
   ]
  },
  {
   "cell_type": "markdown",
   "id": "bcaa4591",
   "metadata": {},
   "source": [
    "------------"
   ]
  },
  {
   "cell_type": "markdown",
   "id": "39d5f98e",
   "metadata": {},
   "source": [
    "### 8. Can you explain the various forms of supervised learning? Explain each one with an example application."
   ]
  },
  {
   "cell_type": "markdown",
   "id": "592f042f",
   "metadata": {},
   "source": [
    "### Supervised machine learning involves training a model using labeled data, where each data point has a known target value or label. Here are some common forms of supervised machine learning:\n",
    "\n",
    "1. Classification: Classification is the task of assigning input data points to predefined classes or categories. The model learns a decision boundary based on the labeled training data and predicts the class labels of new, unseen data points. Examples include email spam detection, image classification, and sentiment analysis.\n",
    "\n",
    "2. Regression: Regression is concerned with predicting continuous numerical values. The model learns a mapping between the input features and a continuous target variable. Examples of regression tasks include predicting housing prices, stock market forecasting, and demand prediction.\n",
    "\n",
    "3. Time Series Forecasting: Time series forecasting involves predicting future values or patterns based on historical time-dependent data. It is commonly used in applications such as stock market forecasting, weather prediction, and demand forecasting.\n",
    "\n",
    "4. Anomaly Detection: Anomaly detection aims to identify rare or unusual instances in a dataset that deviate from the norm. The model learns patterns from normal data and flags instances that significantly differ from those patterns. Anomaly detection is used in fraud detection, network intrusion detection, and equipment failure prediction.\n",
    "\n",
    "5. Sequence Labeling: Sequence labeling is concerned with assigning labels to individual elements in a sequence of data. This includes tasks such as part-of-speech tagging, named entity recognition, and sentiment analysis at the sentence or word level.\n",
    "\n",
    "6. Structured Prediction: Structured prediction involves predicting structured outputs, such as sequences, graphs, or hierarchical structures, based on input data. Examples include speech recognition, machine translation, and image segmentation.\n",
    "\n",
    "7. Ranking: Ranking algorithms learn to rank items or instances based on their relevance or importance. This is commonly used in search engine ranking, recommender systems, and document retrieval.\n"
   ]
  },
  {
   "cell_type": "markdown",
   "id": "7f1b6adb",
   "metadata": {},
   "source": [
    "-----------"
   ]
  },
  {
   "cell_type": "markdown",
   "id": "8316838c",
   "metadata": {},
   "source": [
    "### 9. What is the difference between supervised and unsupervised learning? With a sample application in each region, explain the differences."
   ]
  },
  {
   "cell_type": "markdown",
   "id": "221e7fc1",
   "metadata": {},
   "source": [
    "### Supervised Learning:\n",
    "- Supervised learning involves training a model using labeled data, where each data point is associated with a known target value or label. The goal is to learn a mapping between input features and corresponding target values, enabling the model to make predictions on new, unseen data. The key characteristics of supervised learning are:\n",
    "\n",
    "- Labeled Data: Supervised learning requires labeled data, where each data point is paired with a known target value or label.\n",
    "\n",
    "- Goal: The objective is to train a model that can accurately predict the target value or label for new, unseen instances.\n",
    "\n",
    "- Sample Application: Email Spam Detection\n",
    "\n",
    "Eg. Suppose you have a dataset of emails, where each email is labeled as either \"spam\" or \"not spam.\" You can use supervised learning to train a spam detection model. The model learns from the labeled data, analyzing the content, subject, and other features of the emails. It captures patterns that distinguish between spam and non-spam emails. Once trained, the model can predict whether a new email is spam or not, based on its features.\n",
    "\n",
    "### Unsupervised Learning:\n",
    "- Unsupervised learning involves learning patterns and structures from unlabeled data, without any predefined target values or labels. The objective is to explore the data, identify inherent relationships, and uncover hidden patterns or clusters. The key characteristics of unsupervised learning are:\n",
    "\n",
    "- Unlabeled Data: Unsupervised learning operates on unlabeled data, where there are no predefined target values or labels associated with the data points.\n",
    "\n",
    "- Goal: The aim is to discover patterns, structures, or relationships within the data without specific target values in mind.\n",
    "\n",
    "- Sample Application: Customer Segmentation\n",
    "\n",
    "Eg. Suppose you have a dataset containing customer purchase histories, but without any explicit information about customer segments or categories. Unsupervised learning can be used to perform customer segmentation. The algorithm explores the data, identifying patterns and similarities among customers based on their purchasing behavior. It groups similar customers together, allowing you to identify distinct segments or clusters of customers with similar purchasing preferences. This information can be valuable for targeted marketing strategies, personalized recommendations, or customer retention efforts.\n",
    "\n",
    "- In summary, the main difference between supervised and unsupervised learning lies in the availability of labeled data. Supervised learning requires labeled data with known target values, while unsupervised learning operates on unlabeled data, focusing on uncovering patterns and structures without predefined labels or target values."
   ]
  },
  {
   "cell_type": "markdown",
   "id": "4bf8d97c",
   "metadata": {},
   "source": [
    "------------"
   ]
  },
  {
   "cell_type": "markdown",
   "id": "0584fa89",
   "metadata": {},
   "source": [
    "### 10. Describe the machine learning process in depth.\n",
    "\n",
    "a. Make brief notes on any two of the following:\n",
    "\n",
    "i. MATLAB is one of the most widely used programming languages.\n",
    "\n",
    "ii. Deep learning applications in healthcare\n",
    "\n",
    "iii. Study of the market basket\n",
    "\n",
    "iv. Linear regression (simple)"
   ]
  },
  {
   "cell_type": "markdown",
   "id": "76b8e8db",
   "metadata": {},
   "source": [
    "### Deep learning applications in healthcare:\n",
    "\n",
    "Deep learning, a subset of artificial intelligence (AI), has made significant contributions to the field of healthcare. It has the potential to revolutionize various aspects of healthcare, including medical imaging, diagnosis, drug discovery, genomics, and personalized medicine. Here are some key applications of deep learning in healthcare:\n",
    "\n",
    "Medical Imaging: Deep learning has shown remarkable performance in analyzing medical images such as X-rays, CT scans, and MRIs. Convolutional neural networks (CNNs) can accurately detect abnormalities, classify diseases, and assist in early diagnosis of conditions like cancer, cardiovascular diseases, and neurological disorders.\n",
    "\n",
    "Diagnostics and Decision Support: Deep learning models can aid in medical diagnostics by analyzing patient data, including symptoms, medical history, lab results, and genetic information. These models can provide decision support to healthcare professionals, suggesting potential diagnoses, predicting disease progression, and recommending appropriate treatment options.\n",
    "\n",
    "Drug Discovery: Deep learning techniques are being used to accelerate the drug discovery process. Generative models can generate novel molecules with desired properties, allowing researchers to design new drugs. Deep learning algorithms can also predict the effectiveness and potential side effects of drug candidates, reducing the time and cost associated with traditional drug development methods.\n",
    "\n",
    "Genomics and Precision Medicine: Deep learning has the potential to extract valuable insights from large-scale genomic data. It can help identify disease-associated genetic variants, predict disease risks, and develop personalized treatment plans based on an individual's genetic profile. Deep learning models can also analyze electronic health records (EHRs) and clinical data to improve patient outcomes and healthcare management.\n",
    "\n",
    "Disease Prognosis and Monitoring: Deep learning models can analyze various data sources, such as patient records, sensor data, and wearable devices, to predict disease progression and monitor patient health in real-time. These models can identify early warning signs, detect anomalies, and provide personalized recommendations for disease management.\n",
    "\n",
    "Natural Language Processing (NLP): NLP techniques combined with deep learning can extract meaningful information from unstructured clinical texts, including physician's notes, research papers, and medical literature. This helps in organizing and analyzing large volumes of textual data, improving clinical decision-making, and enabling better healthcare research.\n",
    "\n",
    "Despite the immense potential, it's important to ensure that deep learning models are properly validated, comply with privacy regulations, and are transparent in their decision-making process. Ethical considerations, interpretability, and the need for human oversight remain crucial in the development and deployment of deep learning in healthcare."
   ]
  },
  {
   "cell_type": "markdown",
   "id": "08546291",
   "metadata": {},
   "source": [
    "-------------"
   ]
  },
  {
   "cell_type": "markdown",
   "id": "e1c2a307",
   "metadata": {},
   "source": [
    "### 11. Make a comparison between:-\n",
    "\n",
    "#### 1. Generalization and abstraction\n",
    "\n",
    "Generalization and abstraction are two important concepts in the field of artificial intelligence and machine learning. While they are related, they have distinct meanings and implications. Let's compare them:\n",
    "\n",
    "- Generalization:\n",
    "Generalization refers to the ability of a machine learning model to perform well on unseen or new data points beyond the training data it was exposed to. In other words, a model that generalizes well can accurately predict outcomes for examples it has not previously encountered. Generalization is crucial for a model's practical utility because it enables it to make reliable predictions in real-world scenarios.\n",
    "\n",
    "Generalization is achieved through the process of learning patterns and relationships from the training data that are applicable to unseen data. When a model successfully generalizes, it can capture the underlying structure and regularities in the data, rather than just memorizing specific instances. This allows the model to make accurate predictions on new, unseen examples.\n",
    "\n",
    "Overfitting is a common challenge in generalization. Overfitting occurs when a model becomes overly complex and starts to memorize noise or random fluctuations in the training data, leading to poor performance on unseen data. Regularization techniques and careful model selection help mitigate overfitting and improve generalization.\n",
    "\n",
    "- Abstraction:\n",
    "Abstraction refers to the process of simplifying complex information or data by identifying and focusing on the essential features or concepts. It involves extracting the fundamental characteristics or patterns from a set of objects or ideas while ignoring irrelevant details. Abstraction allows us to represent and understand complex systems or concepts at a higher level of simplicity and generality.\n",
    "\n",
    "In the context of AI and machine learning, abstraction is a key aspect of feature engineering. Feature engineering involves selecting and transforming raw input data into meaningful and representative features that can be used by machine learning algorithms. Abstraction techniques help identify and extract relevant features that capture the important aspects of the data for a given task.\n",
    "\n",
    "Abstraction also plays a role in model design and representation. For example, in deep learning, hierarchical representations are learned through multiple layers of abstraction. Each layer captures different levels of abstraction, starting from low-level features (e.g., edges) and gradually progressing to higher-level features (e.g., shapes or objects). This hierarchical abstraction enables models to understand complex relationships and make meaningful predictions.\n",
    "\n",
    "In summary, generalization focuses on the model's ability to perform well on unseen data points, while abstraction deals with simplifying complex information by identifying essential features or concepts. Generalization is a desired property of machine learning models, while abstraction is a process used to represent and understand data or systems more effectively.\n",
    "\n"
   ]
  },
  {
   "cell_type": "markdown",
   "id": "71d6ab70",
   "metadata": {},
   "source": [
    "#### 2. Learning that is guided and unsupervised\n",
    "\n",
    "- Supervised learning is the method that trains machines to use data that is well classified and labeled. Whereas Unsupervised learning, on the other hand, is the method that trains machines to use data that is neither classified nor labeled.\n"
   ]
  },
  {
   "cell_type": "markdown",
   "id": "86202b4e",
   "metadata": {},
   "source": [
    "#### 3. Regression and classification\n",
    "\n",
    "- Regression:\n",
    "Regression is used to predict continuous or numerical values based on input features. The goal is to find a mathematical relationship between the input variables and the target variable, allowing us to estimate or forecast the numeric outcome. In regression, the target variable is typically a real-valued quantity, such as the price of a house or the temperature of a city.\n",
    "\n",
    "There are various regression algorithms, including linear regression, polynomial regression, decision tree regression, support vector regression (SVR), and neural network regression. These algorithms analyze the input variables and learn the patterns and relationships to make predictions. The evaluation of regression models is commonly done using metrics like mean squared error (MSE), root mean squared error (RMSE), or R-squared.\n",
    "\n",
    "- Classification:\n",
    "Classification, on the other hand, is concerned with predicting categorical or discrete labels or classes for given input data. The objective is to assign the input to predefined classes based on the available features. For example, classifying an email as either spam or not spam, or determining whether a transaction is fraudulent or legitimate.\n",
    "\n",
    "Classification algorithms aim to create decision boundaries or rules that can separate different classes based on the input variables. Common classification algorithms include logistic regression, decision trees, random forests, support vector machines (SVM), and neural networks. The performance of classification models is evaluated using metrics such as accuracy, precision, recall, and F1-score."
   ]
  }
 ],
 "metadata": {
  "kernelspec": {
   "display_name": "Python 3 (ipykernel)",
   "language": "python",
   "name": "python3"
  },
  "language_info": {
   "codemirror_mode": {
    "name": "ipython",
    "version": 3
   },
   "file_extension": ".py",
   "mimetype": "text/x-python",
   "name": "python",
   "nbconvert_exporter": "python",
   "pygments_lexer": "ipython3",
   "version": "3.9.12"
  }
 },
 "nbformat": 4,
 "nbformat_minor": 5
}

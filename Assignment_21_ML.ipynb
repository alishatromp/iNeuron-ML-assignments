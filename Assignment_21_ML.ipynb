{
 "cells": [
  {
   "cell_type": "markdown",
   "id": "784725f1",
   "metadata": {},
   "source": [
    "### 1. What is the estimated depth of a Decision Tree trained (unrestricted) on a one million instance training set?\n"
   ]
  },
  {
   "cell_type": "markdown",
   "id": "61e65e5d",
   "metadata": {},
   "source": [
    "The estimated depth of a Decision Tree trained on a one million instance training set can vary significantly depending on several factors such as the complexity of the data, the number of features, and the stopping criteria used during training. However, there is no fixed or standard depth for Decision Trees on a given dataset, as it is an outcome of the learning process."
   ]
  },
  {
   "cell_type": "markdown",
   "id": "b26406f2",
   "metadata": {},
   "source": [
    "-------------"
   ]
  },
  {
   "cell_type": "markdown",
   "id": "617fcc17",
   "metadata": {},
   "source": [
    "### 2. Is the Gini impurity of a node usually lower or higher than that of its parent? Is it always lower/greater, or is it usually lower/greater?"
   ]
  },
  {
   "cell_type": "markdown",
   "id": "56bc04ec",
   "metadata": {},
   "source": [
    "In a Decision Tree, the Gini impurity of a node is typically lower than that of its parent, assuming the tree is being trained to minimize Gini impurity. The Gini impurity is a measure of the node's impurity or the level of disorder in the node's class distribution."
   ]
  },
  {
   "cell_type": "markdown",
   "id": "5e3b5c12",
   "metadata": {},
   "source": [
    "----------"
   ]
  },
  {
   "cell_type": "markdown",
   "id": "3e1b61ab",
   "metadata": {},
   "source": [
    "### 3. Explain if its a good idea to reduce max depth if a Decision Tree is overfitting the training set?"
   ]
  },
  {
   "cell_type": "markdown",
   "id": "2f262c44",
   "metadata": {},
   "source": [
    "Reducing the maximum depth of a Decision Tree can be a good idea if the tree is overfitting the training set. \n",
    "\n",
    "Overfitting occurs when the Decision Tree becomes too complex and captures noise or irrelevant patterns in the training data, leading to poor generalization on unseen data. By reducing the maximum depth, you can apply regularization to the tree and improve its ability to generalize."
   ]
  },
  {
   "cell_type": "markdown",
   "id": "e085462a",
   "metadata": {},
   "source": [
    "------------"
   ]
  },
  {
   "cell_type": "markdown",
   "id": "2fe0f98e",
   "metadata": {},
   "source": [
    "### 4. Explain if its a good idea to try scaling the input features if a Decision Tree underfits the training set?"
   ]
  },
  {
   "cell_type": "markdown",
   "id": "0d7c4501",
   "metadata": {},
   "source": [
    "If a Decision Tree underfits the training set, trying to scale the input features is generally not the most effective solution. \n",
    "\n",
    "Decision Trees are not sensitive to feature scaling because the algorithm operates by comparing features at different nodes based on threshold values. Therefore, scaling the features does not have a significant impact on the performance of the Decision Tree."
   ]
  },
  {
   "cell_type": "markdown",
   "id": "41a1c379",
   "metadata": {},
   "source": [
    "----------"
   ]
  },
  {
   "cell_type": "markdown",
   "id": "6072d89b",
   "metadata": {},
   "source": [
    "### 5. How much time will it take to train another Decision Tree on a training set of 10 million instances if it takes an hour to train a Decision Tree on a training set with 1 million instances?\n"
   ]
  },
  {
   "cell_type": "markdown",
   "id": "68afff9c",
   "metadata": {},
   "source": [
    "Let's assume \n",
    "Time to train 1 million instances = 1 hour\n",
    "Time to train 10 million instances ≈ (10 million / 1 million) * 1 hour\n",
    "Time to train 10 million instances ≈ 10 hours\n",
    "\n",
    "This is influenced by various factors, such as the complexity of the data, the number of features, the hardware used, and the specific implementation of the algorithm. "
   ]
  },
  {
   "cell_type": "markdown",
   "id": "cd6bb882",
   "metadata": {},
   "source": [
    "----------"
   ]
  },
  {
   "cell_type": "markdown",
   "id": "3e9897e6",
   "metadata": {},
   "source": [
    "### 6. Will setting presort=True speed up training if your training set has 100,000 instances?"
   ]
  },
  {
   "cell_type": "markdown",
   "id": "7aa32297",
   "metadata": {},
   "source": [
    "Setting presort=True in a Decision Tree algorithm might not necessarily speed up training, especially for a training set with 100,000 instances. In fact, it can lead to slower training times and increased memory usage.\n",
    "\n",
    "The presort parameter in Decision Trees determines whether the data should be presorted before the tree is built. When presort=True, the algorithm will sort the data based on each feature before finding the best split at each node. This presorting can be beneficial for smaller datasets, but it becomes computationally expensive for larger datasets, like the one with 100,000 instances."
   ]
  },
  {
   "cell_type": "markdown",
   "id": "1844b781",
   "metadata": {},
   "source": [
    "----------"
   ]
  },
  {
   "cell_type": "markdown",
   "id": "d3f6b201",
   "metadata": {},
   "source": [
    "### 7. Follow these steps to train and fine-tune a Decision Tree for the moons dataset:\n",
    "\n",
    "a. To build a moons dataset, use make moons(n samples=10000, noise=0.4).\n",
    "\n",
    "b. Divide the dataset into a training and a test collection with train test split().\n",
    "\n",
    "c. To find good hyperparameters values for a DecisionTreeClassifier, use grid search with cross-\n",
    "validation (with the GridSearchCV class). Try different values for max leaf nodes.\n",
    "\n",
    "d. Use these hyperparameters to train the model on the entire training set, and then assess its\n",
    "output on the test set. You can achieve an accuracy of 85 to 87 percent.\n"
   ]
  },
  {
   "cell_type": "code",
   "execution_count": 1,
   "id": "17d74fce",
   "metadata": {},
   "outputs": [
    {
     "name": "stdout",
     "output_type": "stream",
     "text": [
      "Test Accuracy: 0.8615\n"
     ]
    }
   ],
   "source": [
    "# Step 1: Import necessary libraries and generate the moons dataset\n",
    "\n",
    "from sklearn.datasets import make_moons\n",
    "from sklearn.model_selection import train_test_split\n",
    "from sklearn.tree import DecisionTreeClassifier\n",
    "from sklearn.model_selection import GridSearchCV\n",
    "from sklearn.metrics import accuracy_score\n",
    "\n",
    "# Generate the moons dataset with 10000 samples and noise=0.4\n",
    "X, y = make_moons(n_samples=10000, noise=0.4, random_state=42)\n",
    "\n",
    "# Step 2: Split the dataset into training and testing sets\n",
    "X_train, X_test, y_train, y_test = train_test_split(X, y, test_size=0.2, random_state=42)\n",
    "\n",
    "# Step 3: Train a Decision Tree classifier on the training set\n",
    "decision_tree = DecisionTreeClassifier(random_state=42)\n",
    "\n",
    "# Fit the Decision Tree on the training data\n",
    "decision_tree.fit(X_train, y_train)\n",
    "\n",
    "# Step 4: Fine-tune the Decision Tree hyperparameters using cross-validation\n",
    "# Define the hyperparameters to tune\n",
    "param_grid = {\n",
    "    'max_depth': [None, 5, 10, 15],  # You can add more values to explore different depths\n",
    "    'min_samples_split': [2, 5, 10],\n",
    "    'min_samples_leaf': [1, 2, 4]\n",
    "}\n",
    "\n",
    "# Create a GridSearchCV object to find the best hyperparameters\n",
    "grid_search = GridSearchCV(decision_tree, param_grid, cv=5, scoring='accuracy')\n",
    "grid_search.fit(X_train, y_train)\n",
    "\n",
    "# Get the best hyperparameters\n",
    "best_params = grid_search.best_params_\n",
    "\n",
    "# Step 5: Evaluate the model on the testing set\n",
    "best_decision_tree = grid_search.best_estimator_\n",
    "\n",
    "# Predict on the test set\n",
    "y_pred = best_decision_tree.predict(X_test)\n",
    "\n",
    "# Calculate accuracy\n",
    "accuracy = accuracy_score(y_test, y_pred)\n",
    "print(\"Test Accuracy:\", accuracy)"
   ]
  },
  {
   "cell_type": "markdown",
   "id": "48ca7aca",
   "metadata": {},
   "source": [
    "---------"
   ]
  },
  {
   "cell_type": "markdown",
   "id": "dc5c62a9",
   "metadata": {},
   "source": [
    "### 8. Follow these steps to grow a forest:\n",
    "\n",
    "a. Using the same method as before, create 1,000 subsets of the training set, each containing\n",
    "100 instances chosen at random. You can do this with Scikit-ShuffleSplit Learn&#39;s class.\n",
    "\n",
    "b. Using the best hyperparameter values found in the previous exercise, train one Decision\n",
    "Tree on each subset. On the test collection, evaluate these 1,000 Decision Trees. These Decision Trees would likely perform worse than the first Decision Tree, achieving only around 80% accuracy,\n",
    "since they were trained on smaller sets.\n",
    "\n",
    "c. Now the magic begins. Create 1,000 Decision Tree predictions for each test set case, and\n",
    "keep only the most common prediction (you can do this with SciPy&#39;s mode() function). Over the test\n",
    "collection, this method gives you majority-vote predictions.\n",
    "\n",
    "d. On the test range, evaluate these predictions: you should achieve a slightly higher accuracy\n",
    "than the first model (approx 0.5 to 1.5 percent higher). You&#39;ve successfully learned a Random Forest\n",
    "classifier!"
   ]
  },
  {
   "cell_type": "code",
   "execution_count": 3,
   "id": "bb2e1b25",
   "metadata": {},
   "outputs": [
    {
     "name": "stdout",
     "output_type": "stream",
     "text": [
      "Ensemble Accuracy: 0.87\n"
     ]
    }
   ],
   "source": [
    "# Step 1: Import necessary libraries\n",
    "from sklearn.model_selection import ShuffleSplit\n",
    "\n",
    "# Step 2: Define the number of subsets and their size\n",
    "num_subsets = 1000\n",
    "subset_size = 100\n",
    "\n",
    "# Step 3: Create a ShuffleSplit object\n",
    "shuffle_split = ShuffleSplit(n_splits=num_subsets, train_size=subset_size, random_state=42)\n",
    "\n",
    "# Step 4: Generate the subsets\n",
    "subsets_X = []\n",
    "subsets_y = []\n",
    "\n",
    "for train_indices, _ in shuffle_split.split(X_train):\n",
    "    X_subset = X_train[train_indices]\n",
    "    y_subset = y_train[train_indices]\n",
    "    subsets_X.append(X_subset)\n",
    "    subsets_y.append(y_subset)\n",
    "\n",
    "# At this point, you have 1,000 subsets in subsets_X and subsets_y.\n",
    "# Each subset contains 100 randomly selected instances from the training set.\n",
    "# You can now train 1,000 Random Forest models, one for each subset.\n",
    "\n",
    "# Reusing the best hyperparameters from the previous exercise\n",
    "best_params = {'max_depth': 10, 'min_samples_split': 5, 'min_samples_leaf': 2}\n",
    "\n",
    "# Import DecisionTreeClassifier\n",
    "from sklearn.tree import DecisionTreeClassifier\n",
    "\n",
    "# Initialize a list to store the Decision Trees\n",
    "decision_trees = []\n",
    "\n",
    "# Train one Decision Tree on each subset\n",
    "for X_subset, y_subset in zip(subsets_X, subsets_y):\n",
    "    dt = DecisionTreeClassifier(**best_params, random_state=42)\n",
    "    dt.fit(X_subset, y_subset)\n",
    "    decision_trees.append(dt)\n",
    "\n",
    "# Evaluate the performance of the 1,000 Decision Trees on the test set\n",
    "ensemble_predictions = []\n",
    "for dt in decision_trees:\n",
    "    y_pred = dt.predict(X_test)\n",
    "    ensemble_predictions.append(y_pred)\n",
    "\n",
    "# Combine the predictions using majority voting\n",
    "import numpy as np\n",
    "ensemble_predictions = np.array(ensemble_predictions)\n",
    "final_predictions = np.apply_along_axis(lambda x: np.bincount(x).argmax(), axis=0, arr=ensemble_predictions)\n",
    "\n",
    "# Calculate accuracy\n",
    "accuracy = accuracy_score(y_test, final_predictions)\n",
    "print(\"Ensemble Accuracy:\", accuracy)\n"
   ]
  },
  {
   "cell_type": "code",
   "execution_count": 4,
   "id": "46007c7b",
   "metadata": {},
   "outputs": [
    {
     "name": "stdout",
     "output_type": "stream",
     "text": [
      "Random Forest Ensemble Accuracy: 0.87\n"
     ]
    }
   ],
   "source": [
    "# Import mode function from SciPy\n",
    "from scipy.stats import mode\n",
    "\n",
    "# Create an array to store predictions from all Decision Trees on the test set\n",
    "ensemble_predictions = np.array(ensemble_predictions)\n",
    "\n",
    "# Perform majority voting to get the final predictions\n",
    "final_predictions, _ = mode(ensemble_predictions, axis=0)\n",
    "\n",
    "# Convert the final_predictions to a 1D array\n",
    "final_predictions = final_predictions.ravel()\n",
    "\n",
    "# Calculate the accuracy of the Random Forest ensemble on the test set\n",
    "ensemble_accuracy = accuracy_score(y_test, final_predictions)\n",
    "print(\"Random Forest Ensemble Accuracy:\", ensemble_accuracy)"
   ]
  },
  {
   "cell_type": "markdown",
   "id": "65d620ee",
   "metadata": {},
   "source": [
    "In the above example we used the SciPy's \"mode\" function to perform majority voting across all 1000 DT for each instance in the test set. Due to the ensemble effect, the Random Forest's accuracy is expected to be slightly higher (0.5% to 1.5%) than the accuracy achieved by the first DT model."
   ]
  }
 ],
 "metadata": {
  "kernelspec": {
   "display_name": "Python 3 (ipykernel)",
   "language": "python",
   "name": "python3"
  },
  "language_info": {
   "codemirror_mode": {
    "name": "ipython",
    "version": 3
   },
   "file_extension": ".py",
   "mimetype": "text/x-python",
   "name": "python",
   "nbconvert_exporter": "python",
   "pygments_lexer": "ipython3",
   "version": "3.9.12"
  }
 },
 "nbformat": 4,
 "nbformat_minor": 5
}
